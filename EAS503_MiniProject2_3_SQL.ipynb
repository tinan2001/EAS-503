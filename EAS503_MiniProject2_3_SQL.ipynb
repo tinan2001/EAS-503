{
 "cells": [
  {
   "cell_type": "code",
   "execution_count": null,
   "id": "bf2197a5",
   "metadata": {},
   "outputs": [],
   "source": [
    "import pandas as pd\n",
    "import sqlite3\n",
    "from sqlite3 import Error\n",
    "import csv"
   ]
  },
  {
   "cell_type": "code",
   "execution_count": null,
   "id": "5f501ba1",
   "metadata": {},
   "outputs": [],
   "source": [
    "df = pd.read_csv('c:/Users/Tinanope28/Box/Mini Project 2-3/Licensed_Contractors.csv', low_memory = False)\n",
    "conn = sqlite3.connect ('normalized.db')\n",
    "cursor = conn.cursor()\n"
   ]
  },
  {
   "cell_type": "code",
   "execution_count": null,
   "id": "3579322a",
   "metadata": {},
   "outputs": [],
   "source": [
    "input_file = 'c:/Users/Tinanope28/Box/Mini Project 2-3/Licensed_Contractors.csv'\n",
    "output_file = 'Licensed_Contractors.tsv'\n",
    "\n",
    "with open(input_file, 'r', newline='', encoding='utf-8') as csv_in,\\\n",
    "     open(output_file, 'w', newline='', encoding='utf-8') as tsv_out:\n",
    "    \n",
    "    reader = csv.reader(csv_in)\n",
    "    writer = csv.writer(tsv_out, delimiter='\\t', quoting=csv.QUOTE_MINIMAL)\n",
    "\n",
    "    for row in reader:\n",
    "        writer.writerow(row)"
   ]
  },
  {
   "cell_type": "code",
   "execution_count": null,
   "id": "bfa8a252",
   "metadata": {},
   "outputs": [],
   "source": [
    "data_filename = ('c:/Users/Tinanope28/Box/Mini Project 2-3/Licensed_Contractors.tsv')\n",
    "normalized_database_filename = 'normalized.db'"
   ]
  },
  {
   "cell_type": "code",
   "execution_count": 5,
   "id": "97cd3640",
   "metadata": {},
   "outputs": [],
   "source": [
    "def create_connection(db_file, delete_db=False):\n",
    "    import os\n",
    "    if delete_db and os.path.exists(db_file):\n",
    "        os.remove(db_file)\n",
    "\n",
    "    conn = None\n",
    "    try:\n",
    "        conn = sqlite3.connect(db_file)\n",
    "        conn.execute(\"PRAGMA foreign_keys = 1\")\n",
    "    except Error as e:\n",
    "        print(e)\n",
    "\n",
    "    return conn\n",
    "\n",
    "\n",
    "def create_table(conn, create_table_sql, drop_table_name = None):\n",
    "    \n",
    "  if drop_table_name: # You can optionally pass drop_table_name to drop the table. \n",
    "    try:\n",
    "      c = conn.cursor()\n",
    "      c.execute(\"DROP TABLE IF EXISTS {}\".format(drop_table_name))\n",
    "    except Error as e:\n",
    "      print(e)\n",
    "  \n",
    "  try:\n",
    "    c = conn.cursor()\n",
    "    c.execute(create_table_sql)\n",
    "  except Error as e:\n",
    "    print(e)\n",
    "\n",
    "\n",
    "def execute_sql_statement(sql_statement, conn):\n",
    "  cur = conn.cursor()\n",
    "  cur.execute(sql_statement)\n",
    "\n",
    "  rows = cur.fetchall()\n",
    "\n",
    "  return rows\n"
   ]
  },
  {
   "cell_type": "code",
   "execution_count": null,
   "id": "6e6bb700",
   "metadata": {},
   "outputs": [
    {
     "data": {
      "application/vnd.microsoft.datawrangler.viewer.v0+json": {
       "columns": [
        {
         "name": "index",
         "rawType": "int64",
         "type": "integer"
        },
        {
         "name": "StateID",
         "rawType": "int64",
         "type": "integer"
        },
        {
         "name": "State",
         "rawType": "object",
         "type": "string"
        }
       ],
       "conversionMethod": "pd.DataFrame",
       "ref": "d60f9d59-f597-4e6b-8dfd-3cb2697dd06c",
       "rows": [
        [
         "0",
         "1",
         "LA"
        ],
        [
         "1",
         "2",
         "SD"
        ],
        [
         "2",
         "3",
         "CA"
        ],
        [
         "3",
         "4",
         "NY"
        ],
        [
         "4",
         "5",
         "VA"
        ],
        [
         "5",
         "6",
         "PA"
        ],
        [
         "6",
         "7",
         "GA"
        ],
        [
         "7",
         "8",
         "RD"
        ],
        [
         "8",
         "9",
         "MN"
        ],
        [
         "9",
         "10",
         "NC"
        ],
        [
         "10",
         "11",
         "OH"
        ],
        [
         "11",
         "12",
         "TX"
        ],
        [
         "12",
         "13",
         "CO"
        ],
        [
         "13",
         "14",
         "MD"
        ],
        [
         "14",
         "15",
         "OR"
        ],
        [
         "15",
         "16",
         "MI"
        ],
        [
         "16",
         "17",
         "AL"
        ],
        [
         "17",
         "18",
         "NJ"
        ],
        [
         "18",
         "19",
         "IL"
        ],
        [
         "19",
         "20",
         "FL"
        ],
        [
         "20",
         "21",
         "FL."
        ],
        [
         "21",
         "22",
         "MA"
        ],
        [
         "22",
         "23",
         "WA"
        ],
        [
         "23",
         "24",
         "TN"
        ],
        [
         "24",
         "25",
         "WI"
        ],
        [
         "25",
         "26",
         "WY"
        ],
        [
         "26",
         "27",
         "IA"
        ],
        [
         "27",
         "28",
         "SC"
        ],
        [
         "28",
         "29",
         "MO"
        ],
        [
         "29",
         "30",
         "CT"
        ],
        [
         "30",
         "31",
         "UT"
        ],
        [
         "31",
         "32",
         "RI"
        ],
        [
         "32",
         "33",
         "IN"
        ],
        [
         "33",
         "34",
         "VI"
        ],
        [
         "34",
         "35",
         "DE"
        ],
        [
         "35",
         "36",
         "KS"
        ],
        [
         "36",
         "37",
         "KY"
        ],
        [
         "37",
         "38",
         "NV"
        ],
        [
         "38",
         "39",
         "NH"
        ],
        [
         "39",
         "40",
         "AR"
        ],
        [
         "40",
         "41",
         "AZ"
        ],
        [
         "41",
         "42",
         "WV"
        ],
        [
         "42",
         "43",
         "MS"
        ],
        [
         "43",
         "44",
         "OK"
        ],
        [
         "44",
         "45",
         "DC"
        ]
       ],
       "shape": {
        "columns": 2,
        "rows": 45
       }
      },
      "text/html": [
       "<div>\n",
       "<style scoped>\n",
       "    .dataframe tbody tr th:only-of-type {\n",
       "        vertical-align: middle;\n",
       "    }\n",
       "\n",
       "    .dataframe tbody tr th {\n",
       "        vertical-align: top;\n",
       "    }\n",
       "\n",
       "    .dataframe thead th {\n",
       "        text-align: right;\n",
       "    }\n",
       "</style>\n",
       "<table border=\"1\" class=\"dataframe\">\n",
       "  <thead>\n",
       "    <tr style=\"text-align: right;\">\n",
       "      <th></th>\n",
       "      <th>StateID</th>\n",
       "      <th>State</th>\n",
       "    </tr>\n",
       "  </thead>\n",
       "  <tbody>\n",
       "    <tr>\n",
       "      <th>0</th>\n",
       "      <td>1</td>\n",
       "      <td>LA</td>\n",
       "    </tr>\n",
       "    <tr>\n",
       "      <th>1</th>\n",
       "      <td>2</td>\n",
       "      <td>SD</td>\n",
       "    </tr>\n",
       "    <tr>\n",
       "      <th>2</th>\n",
       "      <td>3</td>\n",
       "      <td>CA</td>\n",
       "    </tr>\n",
       "    <tr>\n",
       "      <th>3</th>\n",
       "      <td>4</td>\n",
       "      <td>NY</td>\n",
       "    </tr>\n",
       "    <tr>\n",
       "      <th>4</th>\n",
       "      <td>5</td>\n",
       "      <td>VA</td>\n",
       "    </tr>\n",
       "    <tr>\n",
       "      <th>5</th>\n",
       "      <td>6</td>\n",
       "      <td>PA</td>\n",
       "    </tr>\n",
       "    <tr>\n",
       "      <th>6</th>\n",
       "      <td>7</td>\n",
       "      <td>GA</td>\n",
       "    </tr>\n",
       "    <tr>\n",
       "      <th>7</th>\n",
       "      <td>8</td>\n",
       "      <td>RD</td>\n",
       "    </tr>\n",
       "    <tr>\n",
       "      <th>8</th>\n",
       "      <td>9</td>\n",
       "      <td>MN</td>\n",
       "    </tr>\n",
       "    <tr>\n",
       "      <th>9</th>\n",
       "      <td>10</td>\n",
       "      <td>NC</td>\n",
       "    </tr>\n",
       "    <tr>\n",
       "      <th>10</th>\n",
       "      <td>11</td>\n",
       "      <td>OH</td>\n",
       "    </tr>\n",
       "    <tr>\n",
       "      <th>11</th>\n",
       "      <td>12</td>\n",
       "      <td>TX</td>\n",
       "    </tr>\n",
       "    <tr>\n",
       "      <th>12</th>\n",
       "      <td>13</td>\n",
       "      <td>CO</td>\n",
       "    </tr>\n",
       "    <tr>\n",
       "      <th>13</th>\n",
       "      <td>14</td>\n",
       "      <td>MD</td>\n",
       "    </tr>\n",
       "    <tr>\n",
       "      <th>14</th>\n",
       "      <td>15</td>\n",
       "      <td>OR</td>\n",
       "    </tr>\n",
       "    <tr>\n",
       "      <th>15</th>\n",
       "      <td>16</td>\n",
       "      <td>MI</td>\n",
       "    </tr>\n",
       "    <tr>\n",
       "      <th>16</th>\n",
       "      <td>17</td>\n",
       "      <td>AL</td>\n",
       "    </tr>\n",
       "    <tr>\n",
       "      <th>17</th>\n",
       "      <td>18</td>\n",
       "      <td>NJ</td>\n",
       "    </tr>\n",
       "    <tr>\n",
       "      <th>18</th>\n",
       "      <td>19</td>\n",
       "      <td>IL</td>\n",
       "    </tr>\n",
       "    <tr>\n",
       "      <th>19</th>\n",
       "      <td>20</td>\n",
       "      <td>FL</td>\n",
       "    </tr>\n",
       "    <tr>\n",
       "      <th>20</th>\n",
       "      <td>21</td>\n",
       "      <td>FL.</td>\n",
       "    </tr>\n",
       "    <tr>\n",
       "      <th>21</th>\n",
       "      <td>22</td>\n",
       "      <td>MA</td>\n",
       "    </tr>\n",
       "    <tr>\n",
       "      <th>22</th>\n",
       "      <td>23</td>\n",
       "      <td>WA</td>\n",
       "    </tr>\n",
       "    <tr>\n",
       "      <th>23</th>\n",
       "      <td>24</td>\n",
       "      <td>TN</td>\n",
       "    </tr>\n",
       "    <tr>\n",
       "      <th>24</th>\n",
       "      <td>25</td>\n",
       "      <td>WI</td>\n",
       "    </tr>\n",
       "    <tr>\n",
       "      <th>25</th>\n",
       "      <td>26</td>\n",
       "      <td>WY</td>\n",
       "    </tr>\n",
       "    <tr>\n",
       "      <th>26</th>\n",
       "      <td>27</td>\n",
       "      <td>IA</td>\n",
       "    </tr>\n",
       "    <tr>\n",
       "      <th>27</th>\n",
       "      <td>28</td>\n",
       "      <td>SC</td>\n",
       "    </tr>\n",
       "    <tr>\n",
       "      <th>28</th>\n",
       "      <td>29</td>\n",
       "      <td>MO</td>\n",
       "    </tr>\n",
       "    <tr>\n",
       "      <th>29</th>\n",
       "      <td>30</td>\n",
       "      <td>CT</td>\n",
       "    </tr>\n",
       "    <tr>\n",
       "      <th>30</th>\n",
       "      <td>31</td>\n",
       "      <td>UT</td>\n",
       "    </tr>\n",
       "    <tr>\n",
       "      <th>31</th>\n",
       "      <td>32</td>\n",
       "      <td>RI</td>\n",
       "    </tr>\n",
       "    <tr>\n",
       "      <th>32</th>\n",
       "      <td>33</td>\n",
       "      <td>IN</td>\n",
       "    </tr>\n",
       "    <tr>\n",
       "      <th>33</th>\n",
       "      <td>34</td>\n",
       "      <td>VI</td>\n",
       "    </tr>\n",
       "    <tr>\n",
       "      <th>34</th>\n",
       "      <td>35</td>\n",
       "      <td>DE</td>\n",
       "    </tr>\n",
       "    <tr>\n",
       "      <th>35</th>\n",
       "      <td>36</td>\n",
       "      <td>KS</td>\n",
       "    </tr>\n",
       "    <tr>\n",
       "      <th>36</th>\n",
       "      <td>37</td>\n",
       "      <td>KY</td>\n",
       "    </tr>\n",
       "    <tr>\n",
       "      <th>37</th>\n",
       "      <td>38</td>\n",
       "      <td>NV</td>\n",
       "    </tr>\n",
       "    <tr>\n",
       "      <th>38</th>\n",
       "      <td>39</td>\n",
       "      <td>NH</td>\n",
       "    </tr>\n",
       "    <tr>\n",
       "      <th>39</th>\n",
       "      <td>40</td>\n",
       "      <td>AR</td>\n",
       "    </tr>\n",
       "    <tr>\n",
       "      <th>40</th>\n",
       "      <td>41</td>\n",
       "      <td>AZ</td>\n",
       "    </tr>\n",
       "    <tr>\n",
       "      <th>41</th>\n",
       "      <td>42</td>\n",
       "      <td>WV</td>\n",
       "    </tr>\n",
       "    <tr>\n",
       "      <th>42</th>\n",
       "      <td>43</td>\n",
       "      <td>MS</td>\n",
       "    </tr>\n",
       "    <tr>\n",
       "      <th>43</th>\n",
       "      <td>44</td>\n",
       "      <td>OK</td>\n",
       "    </tr>\n",
       "    <tr>\n",
       "      <th>44</th>\n",
       "      <td>45</td>\n",
       "      <td>DC</td>\n",
       "    </tr>\n",
       "  </tbody>\n",
       "</table>\n",
       "</div>"
      ],
      "text/plain": [
       "    StateID State\n",
       "0         1    LA\n",
       "1         2    SD\n",
       "2         3    CA\n",
       "3         4    NY\n",
       "4         5    VA\n",
       "5         6    PA\n",
       "6         7    GA\n",
       "7         8    RD\n",
       "8         9    MN\n",
       "9        10    NC\n",
       "10       11    OH\n",
       "11       12    TX\n",
       "12       13    CO\n",
       "13       14    MD\n",
       "14       15    OR\n",
       "15       16    MI\n",
       "16       17    AL\n",
       "17       18    NJ\n",
       "18       19    IL\n",
       "19       20    FL\n",
       "20       21   FL.\n",
       "21       22    MA\n",
       "22       23    WA\n",
       "23       24    TN\n",
       "24       25    WI\n",
       "25       26    WY\n",
       "26       27    IA\n",
       "27       28    SC\n",
       "28       29    MO\n",
       "29       30    CT\n",
       "30       31    UT\n",
       "31       32    RI\n",
       "32       33    IN\n",
       "33       34    VI\n",
       "34       35    DE\n",
       "35       36    KS\n",
       "36       37    KY\n",
       "37       38    NV\n",
       "38       39    NH\n",
       "39       40    AR\n",
       "40       41    AZ\n",
       "41       42    WV\n",
       "42       43    MS\n",
       "43       44    OK\n",
       "44       45    DC"
      ]
     },
     "metadata": {},
     "output_type": "display_data"
    }
   ],
   "source": [
    "#Step 1 Create State Table\n",
    "def create_state_table(data_filename, normalized_database_filename):\n",
    "\n",
    "  state_list = []\n",
    "\n",
    "  with open (data_filename) as file: \n",
    "    header = None\n",
    "\n",
    "    for line in file:\n",
    "      if not line.strip():\n",
    "        continue\n",
    "        \n",
    "      if not header:\n",
    "        header = line.strip().split('\\t')\n",
    "        continue\n",
    "\n",
    "      data = line.strip().split('\\t')\n",
    "      state = data[9].upper()\n",
    "\n",
    "      state_tuple = (state,)\n",
    "\n",
    "      if state_tuple not in state_list:\n",
    "        state_list.append(state_tuple)\n",
    "\n",
    "\n",
    "  create_state_table_sql = '''\n",
    "    CREATE TABLE [State] (\n",
    "    [StateID] INTEGER NOT NULL PRIMARY KEY,\n",
    "    [State] TEXT NOT NULL\n",
    "    );\n",
    "    '''\n",
    "  \n",
    "  def insert_state(conn, values):\n",
    "    sql = 'INSERT into State (State) VALUES (?)'\n",
    "    cur = conn.cursor()\n",
    "    cur.executemany(sql,values)\n",
    "    return (cur.lastrowid)\n",
    "  \n",
    "  conn = create_connection(normalized_database_filename)\n",
    "  \n",
    "  with conn:\n",
    "    create_table(conn, create_state_table_sql, \"State\")\n",
    "    insert_state(conn, state_list)\n",
    "  conn.close()\n",
    "\n",
    "\n",
    "create_state_table(data_filename, normalized_database_filename)\n",
    "\n",
    "df = pd.read_sql_query(\"SELECT * FROM State\", conn)\n",
    "display(df)"
   ]
  },
  {
   "cell_type": "code",
   "execution_count": null,
   "id": "30382f4e",
   "metadata": {},
   "outputs": [],
   "source": [
    "# Create State to State ID and State ID to State Dictionaries\n",
    "def create_state_to_stateID_dictionary(normalized_database_filename):\n",
    "\n",
    "    conn = create_connection(normalized_database_filename)\n",
    "\n",
    "    df = pd.read_sql_query (\"SELECT * FROM State\", conn)\n",
    "\n",
    "    state_to_stateID_dict = {}\n",
    "\n",
    "    for _, row in df.iterrows():\n",
    "        StateID = row['StateID']\n",
    "        State= row['State']\n",
    "        state_to_stateID_dict[State] = StateID\n",
    "    \n",
    "    conn.close()\n",
    "    return state_to_stateID_dict\n",
    "\n",
    "def create_stateID_to_state_dictionary(normalized_database_filename):\n",
    "\n",
    "    conn = create_connection(normalized_database_filename)\n",
    "\n",
    "    df = pd.read_sql_query (\"SELECT * FROM State\", conn)\n",
    "\n",
    "    stateID_to_state_dict = {}\n",
    "\n",
    "    for _, row in df.iterrows():\n",
    "        StateID = row['StateID']\n",
    "        State= row['State']\n",
    "        stateID_to_state_dict[StateID] = State\n",
    "    \n",
    "    conn.close()\n",
    "    return stateID_to_state_dict\n",
    "\n",
    "state_to_stateID_dict = create_state_to_stateID_dictionary(normalized_database_filename)\n",
    "stateID_to_state_dict = create_stateID_to_state_dictionary(normalized_database_filename)"
   ]
  },
  {
   "cell_type": "code",
   "execution_count": null,
   "id": "d6351121",
   "metadata": {},
   "outputs": [],
   "source": [
    "#Step 2 Create Municipality Table\n",
    "def create_municipality_table(data_filename, normalized_database_filename):\n",
    "\n",
    "  muni_list = []\n",
    "\n",
    "  with open (data_filename) as file: \n",
    "    header = None\n",
    "\n",
    "    for line in file:\n",
    "      if not line.strip():\n",
    "        continue\n",
    "        \n",
    "      if not header:\n",
    "        header = line.strip().split('\\t')\n",
    "        continue\n",
    "\n",
    "      data = line.strip().split('\\t')\n",
    "      muni = data[7].upper()\n",
    "      state = data[9].upper()\n",
    "\n",
    "      stateID= state_to_stateID_dict[state]\n",
    "      \n",
    "      muni_tuple = (muni, stateID)\n",
    "\n",
    "      if muni_tuple not in muni_list:\n",
    "        muni_list.append(muni_tuple)\n",
    "\n",
    "\n",
    "  create_muni_table_sql = '''\n",
    "    CREATE TABLE [Municipality] (\n",
    "    [MunicipalityID] INTEGER NOT NULL PRIMARY KEY,\n",
    "    [Municipality] TEXT NOT NULL,\n",
    "    [StateID] INTEGER NOT NULL,\n",
    "    FOREIGN KEY ([StateID]) REFERENCES State(StateID)\n",
    "    );\n",
    "    '''\n",
    "  \n",
    "  def insert_muni(conn, values):\n",
    "    sql = 'INSERT into Municipality (Municipality, StateID) VALUES (?,?)'\n",
    "    cur = conn.cursor()\n",
    "    cur.executemany(sql,values)\n",
    "    return (cur.lastrowid)\n",
    "  \n",
    "  conn = create_connection(normalized_database_filename)\n",
    "  \n",
    "  with conn:\n",
    "    create_table(conn, create_muni_table_sql, \"Municipality\")\n",
    "    insert_muni(conn, muni_list)\n",
    "  conn.close()\n",
    "\n",
    "\n",
    "create_municipality_table(data_filename, normalized_database_filename)\n",
    "\n",
    "df = pd.read_sql_query(\"SELECT * FROM Municipality\", conn)\n",
    "display(df)"
   ]
  },
  {
   "cell_type": "code",
   "execution_count": null,
   "id": "9cc61c42",
   "metadata": {},
   "outputs": [],
   "source": [
    "# Create Munipality to MunipalityID Dictionary\n",
    "def create_muni_to_muniID_dictionary(normalized_database_filename):\n",
    "\n",
    "    conn = create_connection(normalized_database_filename)\n",
    "\n",
    "    df = pd.read_sql_query (\"SELECT * FROM Municipality\", conn)\n",
    "\n",
    "    muni_to_muniID_dict = {}\n",
    "\n",
    "    for _, row in df.iterrows():\n",
    "        MunicipalityID = row['MunicipalityID']\n",
    "        Municipality = row['Municipality']\n",
    "        StateID = row['StateID']\n",
    "        State = stateID_to_state_dict[StateID]\n",
    "\n",
    "        muni_state = Municipality + ', ' + State \n",
    "        muni_to_muniID_dict[muni_state] = MunicipalityID\n",
    "    \n",
    "    conn.close()\n",
    "    return muni_to_muniID_dict\n",
    "\n",
    "muni_to_muniID_dict = create_muni_to_muniID_dictionary(normalized_database_filename)"
   ]
  },
  {
   "cell_type": "code",
   "execution_count": null,
   "id": "55bc3ebf",
   "metadata": {},
   "outputs": [],
   "source": [
    "#Step 3 Create Business Description Table\n",
    "def create_business_description_table(data_filename, normalized_database_filename):\n",
    "    description_list = []\n",
    "\n",
    "    with open (data_filename) as file: \n",
    "        header = None\n",
    "\n",
    "        for line in file:\n",
    "            if not line.strip():\n",
    "                continue\n",
    "                \n",
    "            if not header:\n",
    "                header = line.strip().split('\\t')\n",
    "                continue\n",
    "\n",
    "            data = line.strip().split('\\t')\n",
    "            category = data[1]\n",
    "            category_decription = data[2]\n",
    "                \n",
    "            description_tuple = (category,category_decription)\n",
    "\n",
    "            if description_tuple not in description_list:\n",
    "                description_list.append(description_tuple)\n",
    "\n",
    "\n",
    "        create_decription_table_sql = '''\n",
    "            CREATE TABLE [Description] (\n",
    "            [DescriptionID] INTEGER NOT NULL PRIMARY KEY,\n",
    "            [Category] TEXT NOT NULL,\n",
    "            [Description] TEXT NOT NULL);\n",
    "            '''\n",
    "    \n",
    "    def insert_status(conn, values):\n",
    "        sql = 'INSERT into Description (Category, Description) VALUES (?,?)'\n",
    "        cur = conn.cursor()\n",
    "        cur.executemany(sql,values)\n",
    "        return (cur.lastrowid)\n",
    "    \n",
    "    conn = create_connection(normalized_database_filename)\n",
    "    \n",
    "    with conn:\n",
    "        create_table(conn, create_decription_table_sql, \"Description\")\n",
    "        insert_status(conn, description_list)\n",
    "    conn.close()\n",
    "\n",
    "\n",
    "create_business_description_table(data_filename, normalized_database_filename)\n",
    "\n",
    "df = pd.read_sql_query (\"SELECT * FROM Description\", conn)\n",
    "display (df)"
   ]
  },
  {
   "cell_type": "code",
   "execution_count": null,
   "id": "20d9999b",
   "metadata": {},
   "outputs": [],
   "source": [
    "#Create Description To Description ID Dictionary\n",
    "def create_description_to_descriptionID_dictionary(normalized_database_filename):\n",
    "\n",
    "    conn = create_connection(normalized_database_filename)\n",
    "\n",
    "    df = pd.read_sql_query (\"SELECT * FROM Description\", conn)\n",
    "\n",
    "    description_to_descriptionID_dict = {}\n",
    "\n",
    "    for _, row in df.iterrows():\n",
    "        DescriptionID = row['DescriptionID']\n",
    "        Category = row['Category']\n",
    "        description_to_descriptionID_dict[Category] = DescriptionID\n",
    "    \n",
    "    conn.close()\n",
    "    return description_to_descriptionID_dict\n",
    "\n",
    "description_to_descriptionID_dict = create_description_to_descriptionID_dictionary(normalized_database_filename)"
   ]
  },
  {
   "cell_type": "code",
   "execution_count": null,
   "id": "539f3d54",
   "metadata": {},
   "outputs": [],
   "source": [
    "#Step 4 Create Business Table\n",
    "def create_business_table(data_filename, normalized_database_filename):\n",
    "  \n",
    "  business_list = []\n",
    "\n",
    "  with open (data_filename) as file: \n",
    "    header = None\n",
    "\n",
    "    for line in file:\n",
    "      if not line.strip():\n",
    "        continue\n",
    "        \n",
    "      if not header:\n",
    "        header = line.strip().split('\\t')\n",
    "        continue\n",
    "\n",
    "      data = line.strip().split('\\t')\n",
    "      business = data[5].upper()\n",
    "      applicant = data[6].upper()\n",
    "      Municipality = data[7].upper()\n",
    "      State = data[9].upper()\n",
    "      \n",
    "      muni_state = (Municipality + ', ' + str(State))\n",
    "      muni = muni_to_muniID_dict[muni_state]\n",
    "      category = data[1] \n",
    "\n",
    "      if business == 'NO DATA':\n",
    "        business = applicant\n",
    "        \n",
    "      business_tuple = (business, description_to_descriptionID_dict[category], muni)\n",
    "\n",
    "      if business_tuple not in business_list:\n",
    "        business_list.append(business_tuple)\n",
    "\n",
    "    \n",
    "  create_business_table_sql = '''\n",
    "    \n",
    "    CREATE TABLE [Business] (\n",
    "    [BusinessID] INTEGER NOT NULL PRIMARY KEY,\n",
    "    [Business] TEXT NOT NULL,\n",
    "    [DescriptionID] INT NOT NULL,\n",
    "    [MunicipalityID] INT NOT NULL,\n",
    "    FOREIGN KEY ([DescriptionID]) REFERENCES Description(DescriptionID),\n",
    "    FOREIGN KEY ([MunicipalityID]) REFERENCES Municipality(MunicipalityID)\n",
    "    );\n",
    "    '''\n",
    "  \n",
    "  def insert_business(conn, values):\n",
    "    sql = 'INSERT into Business (Business, DescriptionID, MunicipalityID) VALUES (?,?,?)'\n",
    "    cur = conn.cursor()\n",
    "    cur.executemany(sql,values)\n",
    "    return (cur.lastrowid)\n",
    "  \n",
    "  conn = create_connection(normalized_database_filename)\n",
    "  \n",
    "  with conn:\n",
    "    create_table(conn, create_business_table_sql, \"Business\")\n",
    "    insert_business(conn, business_list)\n",
    "  conn.close()\n",
    "\n",
    "create_business_table(data_filename, normalized_database_filename)\n",
    "\n",
    "df = pd.read_sql_query(\"SELECT * FROM Business\", conn)\n",
    "display(df)"
   ]
  },
  {
   "cell_type": "code",
   "execution_count": null,
   "id": "be86bf69",
   "metadata": {},
   "outputs": [],
   "source": [
    "#Create Business To BusinessID Dictionary\n",
    "def create_business_to_businessID_dictionary(normalized_database_filename):\n",
    "\n",
    "    conn = create_connection(normalized_database_filename)\n",
    "\n",
    "    df = pd.read_sql_query (\"SELECT * FROM Business\", conn)\n",
    "\n",
    "    business_to_businessID_dict = {}\n",
    "\n",
    "    for _, row in df.iterrows():\n",
    "        BusinessID = row['BusinessID']\n",
    "        Business = row['Business']\n",
    "        business_to_businessID_dict[Business] = BusinessID\n",
    "    \n",
    "    conn.close()\n",
    "    return business_to_businessID_dict\n",
    "\n",
    "business_to_businessID_dict = create_business_to_businessID_dictionary(normalized_database_filename)"
   ]
  },
  {
   "cell_type": "code",
   "execution_count": null,
   "id": "530c46cb",
   "metadata": {},
   "outputs": [],
   "source": [
    "#Step 5 Create Status Table\n",
    "def create_status_table(data_filename, normalized_database_filename):\n",
    "    status_list = []\n",
    "\n",
    "    with open (data_filename) as file: \n",
    "        header = None\n",
    "\n",
    "        for line in file:\n",
    "            if not line.strip():\n",
    "                continue\n",
    "                \n",
    "            if not header:\n",
    "                header = line.strip().split('\\t')\n",
    "                continue\n",
    "\n",
    "            data = line.strip().split('\\t')\n",
    "            status = data[3]\n",
    "                \n",
    "            status_tuple = (status,)\n",
    "\n",
    "\n",
    "\n",
    "            if status_tuple not in status_list:\n",
    "                status_list.append(status_tuple)\n",
    "\n",
    "\n",
    "        create_status_table_sql = '''\n",
    "            CREATE TABLE [Status] (\n",
    "            [StatusID] INTEGER NOT NULL PRIMARY KEY,\n",
    "            [Status] TEXT NOT NULL);\n",
    "            '''\n",
    "    \n",
    "    def insert_status(conn, values):\n",
    "        sql = 'INSERT into Status (Status) VALUES (?)'\n",
    "        cur = conn.cursor()\n",
    "        cur.executemany(sql,values)\n",
    "        return (cur.lastrowid)\n",
    "    \n",
    "    conn = create_connection(normalized_database_filename)\n",
    "    \n",
    "    with conn:\n",
    "        create_table(conn, create_status_table_sql, \"Status\")\n",
    "        insert_status(conn, status_list)\n",
    "    conn.close()\n",
    "\n",
    "create_status_table(data_filename, normalized_database_filename)\n",
    "\n",
    "df = pd.read_sql_query(\"SELECT * FROM Status\", conn)\n",
    "display(df)"
   ]
  },
  {
   "cell_type": "code",
   "execution_count": null,
   "id": "ce7f935b",
   "metadata": {},
   "outputs": [],
   "source": [
    "\n",
    "def create_status_to_statusID_dictionary(normalized_database_filename):\n",
    "\n",
    "    conn = create_connection(normalized_database_filename)\n",
    "\n",
    "    df = pd.read_sql_query (\"SELECT * FROM Status\", conn)\n",
    "\n",
    "    status_to_statusID_dict = {}\n",
    "\n",
    "    for _, row in df.iterrows():\n",
    "        StatusID = row['StatusID']\n",
    "        Status = row['Status']\n",
    "        status_to_statusID_dict[Status] = StatusID\n",
    "    \n",
    "    conn.close()\n",
    "    return status_to_statusID_dict\n",
    "\n",
    "status_to_statusID_dict = create_status_to_statusID_dictionary(normalized_database_filename)\n"
   ]
  },
  {
   "cell_type": "code",
   "execution_count": null,
   "id": "a2dca81f",
   "metadata": {},
   "outputs": [],
   "source": [
    "#Step 6 Create Applicant Table\n",
    "def create_applicant_table(data_filename, normalized_database_filename):\n",
    "\n",
    "  applicant_list = []\n",
    "\n",
    "  with open (data_filename) as file: \n",
    "    header = None\n",
    "\n",
    "    for line in file:\n",
    "      if not line.strip():\n",
    "        continue\n",
    "        \n",
    "      if not header:\n",
    "        header = line.strip().split('\\t')\n",
    "        continue\n",
    "\n",
    "      data = line.strip().split('\\t')\n",
    "\n",
    "      applicant = data[6].upper()\n",
    "      phoneno = data[8]\n",
    "        \n",
    "      applicant_tuple = (applicant, phoneno)\n",
    "\n",
    "      if applicant_tuple not in applicant_list:\n",
    "        applicant_list.append(applicant_tuple)\n",
    "\n",
    "  create_applicant_table_sql = '''\n",
    "    CREATE TABLE [Applicants] (\n",
    "    [ApplicantID] INTEGER NOT NULL PRIMARY KEY,\n",
    "    [Applicant] TEXT NOT NULL,\n",
    "    [PhoneNo] TEXT\n",
    "    );\n",
    "    '''\n",
    "  \n",
    "  def insert_licence(conn, values):\n",
    "    sql = 'INSERT into Applicants (Applicant,PhoneNo) VALUES (?,?)'\n",
    "    cur = conn.cursor()\n",
    "    cur.executemany(sql,values)\n",
    "    return (cur.lastrowid)\n",
    "  \n",
    "  conn = create_connection(normalized_database_filename)\n",
    "  \n",
    "  with conn:\n",
    "    create_table(conn, create_applicant_table_sql, \"Applicants\")\n",
    "    insert_licence(conn, applicant_list)\n",
    "  conn.close()\n",
    "\n",
    "create_applicant_table(data_filename, normalized_database_filename)\n",
    "\n",
    "df = pd.read_sql_query(\"SELECT * FROM Applicants\", conn)\n",
    "display(df)"
   ]
  },
  {
   "cell_type": "code",
   "execution_count": null,
   "id": "e159e261",
   "metadata": {},
   "outputs": [],
   "source": [
    "#Create Applicant To ApplicantID Dictionary\n",
    "def create_applicant_to_applicantID_dictionary(normalized_database_filename):\n",
    "\n",
    "  conn = create_connection(normalized_database_filename)\n",
    "\n",
    "  df = pd.read_sql_query (\"SELECT * FROM Applicants\", conn)\n",
    "\n",
    "  applicant_to_applicantID_dict = {}\n",
    "\n",
    "  for _, row in df.iterrows():\n",
    "      ApplicantID = row['ApplicantID']\n",
    "      Applicant = row['Applicant']\n",
    "      phoneNo = row['PhoneNo']\n",
    "      applicant_to_applicantID_dict[Applicant+phoneNo] = ApplicantID\n",
    "  \n",
    "  conn.close()\n",
    "  return applicant_to_applicantID_dict\n",
    "\n",
    "applicant_to_applicantID_dict = create_applicant_to_applicantID_dictionary(normalized_database_filename)"
   ]
  },
  {
   "cell_type": "code",
   "execution_count": 50,
   "id": "8dd787a8",
   "metadata": {},
   "outputs": [
    {
     "data": {
      "application/vnd.microsoft.datawrangler.viewer.v0+json": {
       "columns": [
        {
         "name": "index",
         "rawType": "int64",
         "type": "integer"
        },
        {
         "name": "LicenseID",
         "rawType": "int64",
         "type": "integer"
        },
        {
         "name": "LicenseNo",
         "rawType": "object",
         "type": "string"
        },
        {
         "name": "LicensesExpDate",
         "rawType": "object",
         "type": "string"
        },
        {
         "name": "BusinessID",
         "rawType": "int64",
         "type": "integer"
        },
        {
         "name": "ApplicantID",
         "rawType": "int64",
         "type": "integer"
        }
       ],
       "conversionMethod": "pd.DataFrame",
       "ref": "7700c267-3118-4685-925a-0b83e10229b7",
       "rows": [
        [
         "0",
         "1",
         "SEC11-515268",
         "2025-06-30",
         "1",
         "1"
        ],
        [
         "1",
         "2",
         "CAG15-10033688",
         "2025-09-30",
         "2",
         "2"
        ],
        [
         "2",
         "3",
         "CAG16-10034349",
         "2025-09-30",
         "3",
         "3"
        ],
        [
         "3",
         "4",
         "PLU14-10027646",
         "2025-12-31",
         "4",
         "4"
        ],
        [
         "4",
         "5",
         "SEC23-10062768",
         "2025-05-31",
         "5",
         "5"
        ],
        [
         "5",
         "6",
         "JEL24-10067123",
         "2026-12-31",
         "2598",
         "6"
        ],
        [
         "6",
         "7",
         "SBC24-10066891",
         "2025-09-30",
         "7",
         "7"
        ],
        [
         "7",
         "8",
         "LTC21-10059782",
         "2025-09-30",
         "8",
         "8"
        ],
        [
         "8",
         "9",
         "SBC16-10037769",
         "2025-09-30",
         "9",
         "9"
        ],
        [
         "9",
         "10",
         "HIC11-517958",
         "2025-09-30",
         "10",
         "10"
        ],
        [
         "10",
         "11",
         "JEL24-10067193",
         "2027-12-31",
         "4773",
         "11"
        ],
        [
         "11",
         "12",
         "PLJ22-10060089",
         "2025-12-31",
         "12",
         "12"
        ],
        [
         "12",
         "13",
         "SBC21-10059472",
         "2025-09-30",
         "13",
         "13"
        ],
        [
         "13",
         "14",
         "JRP23-10065184",
         "2025-12-31",
         "14",
         "14"
        ],
        [
         "14",
         "15",
         "DM311-522777",
         "2025-09-30",
         "15",
         "15"
        ],
        [
         "15",
         "16",
         "SE211-549416",
         "2026-02-28",
         "16",
         "16"
        ],
        [
         "16",
         "17",
         "SBC11-549152",
         "2025-09-30",
         "17",
         "17"
        ],
        [
         "17",
         "18",
         "LTC11-546418",
         "2025-09-30",
         "18",
         "18"
        ],
        [
         "18",
         "19",
         "PLJ22-10060155",
         "2025-12-31",
         "19",
         "19"
        ],
        [
         "19",
         "20",
         "SE118-10043938",
         "2026-07-31",
         "20",
         "20"
        ],
        [
         "20",
         "21",
         "LTC19-10050188",
         "2025-09-30",
         "21",
         "21"
        ],
        [
         "21",
         "22",
         "SE111-196016",
         "2026-09-30",
         "22",
         "22"
        ],
        [
         "22",
         "23",
         "JEL24-10066415",
         "2027-12-31",
         "4773",
         "23"
        ],
        [
         "23",
         "24",
         "SEC20-10057466",
         "2026-08-31",
         "23",
         "24"
        ],
        [
         "24",
         "25",
         "AUC11-562086",
         "2025-06-01",
         "24",
         "25"
        ],
        [
         "25",
         "26",
         "LTC17-10041772",
         "2025-09-30",
         "25",
         "26"
        ],
        [
         "26",
         "27",
         "JEL24-10067223",
         "2026-12-31",
         "4773",
         "27"
        ],
        [
         "27",
         "28",
         "LTC24-10068365",
         "2025-09-30",
         "26",
         "28"
        ],
        [
         "28",
         "29",
         "LTC24-10066570",
         "2025-09-30",
         "27",
         "29"
        ],
        [
         "29",
         "30",
         "SE111-528952",
         "2026-05-31",
         "28",
         "30"
        ],
        [
         "30",
         "31",
         "JEL24-10067125",
         "2026-12-31",
         "233",
         "31"
        ],
        [
         "31",
         "32",
         "LTC24-10066156",
         "2025-09-30",
         "30",
         "32"
        ],
        [
         "32",
         "33",
         "JEL24-10066392",
         "2026-12-31",
         "4773",
         "33"
        ],
        [
         "33",
         "34",
         "GNC24-10066742",
         "2025-09-30",
         "32",
         "34"
        ],
        [
         "34",
         "35",
         "HIC11-522889",
         "2025-09-30",
         "33",
         "35"
        ],
        [
         "35",
         "36",
         "LTC15-10030921",
         "2025-09-30",
         "36",
         "36"
        ],
        [
         "36",
         "37",
         "DM215-10031007",
         "2025-09-30",
         "36",
         "36"
        ],
        [
         "37",
         "38",
         "FLL11-207919",
         "2025-12-31",
         "36",
         "37"
        ],
        [
         "38",
         "39",
         "GNC11-554529",
         "2025-09-30",
         "37",
         "38"
        ],
        [
         "39",
         "40",
         "SE222-10061624",
         "2026-09-30",
         "38",
         "39"
        ],
        [
         "40",
         "41",
         "HCQ11-560979",
         "2025-12-31",
         "39",
         "40"
        ],
        [
         "41",
         "42",
         "JEL24-10067166",
         "2026-12-31",
         "4773",
         "41"
        ],
        [
         "42",
         "43",
         "DM122-10061087",
         "2025-09-30",
         "41",
         "42"
        ],
        [
         "43",
         "44",
         "LTC22-10061086",
         "2025-09-30",
         "41",
         "42"
        ],
        [
         "44",
         "45",
         "PLJ11-209735",
         "2026-12-31",
         "43",
         "43"
        ],
        [
         "45",
         "46",
         "SE111-174757",
         "2025-12-31",
         "43",
         "43"
        ],
        [
         "46",
         "47",
         "SE211-504893",
         "2026-04-30",
         "44",
         "44"
        ],
        [
         "47",
         "48",
         "SE222-10059934",
         "2026-02-28",
         "45",
         "45"
        ],
        [
         "48",
         "49",
         "LTC19-10049758",
         "2025-09-30",
         "46",
         "46"
        ],
        [
         "49",
         "50",
         "DM311-517690",
         "2025-09-30",
         "47",
         "46"
        ]
       ],
       "shape": {
        "columns": 5,
        "rows": 5060
       }
      },
      "text/html": [
       "<div>\n",
       "<style scoped>\n",
       "    .dataframe tbody tr th:only-of-type {\n",
       "        vertical-align: middle;\n",
       "    }\n",
       "\n",
       "    .dataframe tbody tr th {\n",
       "        vertical-align: top;\n",
       "    }\n",
       "\n",
       "    .dataframe thead th {\n",
       "        text-align: right;\n",
       "    }\n",
       "</style>\n",
       "<table border=\"1\" class=\"dataframe\">\n",
       "  <thead>\n",
       "    <tr style=\"text-align: right;\">\n",
       "      <th></th>\n",
       "      <th>LicenseID</th>\n",
       "      <th>LicenseNo</th>\n",
       "      <th>LicensesExpDate</th>\n",
       "      <th>BusinessID</th>\n",
       "      <th>ApplicantID</th>\n",
       "    </tr>\n",
       "  </thead>\n",
       "  <tbody>\n",
       "    <tr>\n",
       "      <th>0</th>\n",
       "      <td>1</td>\n",
       "      <td>SEC11-515268</td>\n",
       "      <td>2025-06-30</td>\n",
       "      <td>1</td>\n",
       "      <td>1</td>\n",
       "    </tr>\n",
       "    <tr>\n",
       "      <th>1</th>\n",
       "      <td>2</td>\n",
       "      <td>CAG15-10033688</td>\n",
       "      <td>2025-09-30</td>\n",
       "      <td>2</td>\n",
       "      <td>2</td>\n",
       "    </tr>\n",
       "    <tr>\n",
       "      <th>2</th>\n",
       "      <td>3</td>\n",
       "      <td>CAG16-10034349</td>\n",
       "      <td>2025-09-30</td>\n",
       "      <td>3</td>\n",
       "      <td>3</td>\n",
       "    </tr>\n",
       "    <tr>\n",
       "      <th>3</th>\n",
       "      <td>4</td>\n",
       "      <td>PLU14-10027646</td>\n",
       "      <td>2025-12-31</td>\n",
       "      <td>4</td>\n",
       "      <td>4</td>\n",
       "    </tr>\n",
       "    <tr>\n",
       "      <th>4</th>\n",
       "      <td>5</td>\n",
       "      <td>SEC23-10062768</td>\n",
       "      <td>2025-05-31</td>\n",
       "      <td>5</td>\n",
       "      <td>5</td>\n",
       "    </tr>\n",
       "    <tr>\n",
       "      <th>...</th>\n",
       "      <td>...</td>\n",
       "      <td>...</td>\n",
       "      <td>...</td>\n",
       "      <td>...</td>\n",
       "      <td>...</td>\n",
       "    </tr>\n",
       "    <tr>\n",
       "      <th>5055</th>\n",
       "      <td>5056</td>\n",
       "      <td>PLJ12-10023741</td>\n",
       "      <td>2026-12-31</td>\n",
       "      <td>4875</td>\n",
       "      <td>4722</td>\n",
       "    </tr>\n",
       "    <tr>\n",
       "      <th>5056</th>\n",
       "      <td>5057</td>\n",
       "      <td>SE123-10063546</td>\n",
       "      <td>2025-07-31</td>\n",
       "      <td>4876</td>\n",
       "      <td>4723</td>\n",
       "    </tr>\n",
       "    <tr>\n",
       "      <th>5057</th>\n",
       "      <td>5058</td>\n",
       "      <td>SE123-10063619</td>\n",
       "      <td>2025-08-31</td>\n",
       "      <td>4877</td>\n",
       "      <td>4724</td>\n",
       "    </tr>\n",
       "    <tr>\n",
       "      <th>5058</th>\n",
       "      <td>5059</td>\n",
       "      <td>HCQ20-10057101</td>\n",
       "      <td>2025-12-31</td>\n",
       "      <td>4878</td>\n",
       "      <td>4725</td>\n",
       "    </tr>\n",
       "    <tr>\n",
       "      <th>5059</th>\n",
       "      <td>5060</td>\n",
       "      <td>SE118-10043941</td>\n",
       "      <td>2026-06-30</td>\n",
       "      <td>4879</td>\n",
       "      <td>4726</td>\n",
       "    </tr>\n",
       "  </tbody>\n",
       "</table>\n",
       "<p>5060 rows × 5 columns</p>\n",
       "</div>"
      ],
      "text/plain": [
       "      LicenseID       LicenseNo LicensesExpDate  BusinessID  ApplicantID\n",
       "0             1    SEC11-515268      2025-06-30           1            1\n",
       "1             2  CAG15-10033688      2025-09-30           2            2\n",
       "2             3  CAG16-10034349      2025-09-30           3            3\n",
       "3             4  PLU14-10027646      2025-12-31           4            4\n",
       "4             5  SEC23-10062768      2025-05-31           5            5\n",
       "...         ...             ...             ...         ...          ...\n",
       "5055       5056  PLJ12-10023741      2026-12-31        4875         4722\n",
       "5056       5057  SE123-10063546      2025-07-31        4876         4723\n",
       "5057       5058  SE123-10063619      2025-08-31        4877         4724\n",
       "5058       5059  HCQ20-10057101      2025-12-31        4878         4725\n",
       "5059       5060  SE118-10043941      2026-06-30        4879         4726\n",
       "\n",
       "[5060 rows x 5 columns]"
      ]
     },
     "metadata": {},
     "output_type": "display_data"
    }
   ],
   "source": [
    "#Step 7 Create License Table\n",
    "def create_license_table(data_filename, normalized_database_filename):\n",
    "\n",
    "  license_list = []\n",
    "  from datetime import datetime\n",
    "  with open (data_filename) as file: \n",
    "    header = None\n",
    "\n",
    "    for line in file:\n",
    "      if not line.strip():\n",
    "        continue\n",
    "        \n",
    "      if not header:\n",
    "        header = line.strip().split('\\t')\n",
    "        continue\n",
    "\n",
    "      data = line.strip().split('\\t')\n",
    "      licenseNo = data[0]\n",
    "      exp_date = data[4].strip()\n",
    "      exp_date = datetime.strptime(exp_date, '%m/%d/%Y')\n",
    "      exp_date = exp_date.strftime('%Y-%m-%d')\n",
    "      applicant = data[6].upper()\n",
    "      phoneno = data[8]\n",
    "\n",
    "      applicantkey = applicant + phoneno\n",
    "      business = data[5].upper()\n",
    "      if business == 'NO DATA':\n",
    "        business = applicant\n",
    "      \n",
    "      businessID = business_to_businessID_dict[business]\n",
    "      applicantID = applicant_to_applicantID_dict[applicantkey]\n",
    "      license_tuple = (licenseNo, exp_date,businessID, applicantID)\n",
    "\n",
    "      if license_tuple not in license_list:\n",
    "        license_list.append(license_tuple)\n",
    "\n",
    "  create_license_table_sql = '''\n",
    "    CREATE TABLE [Licenses] (\n",
    "    [LicenseID] INTEGER NOT NULL PRIMARY KEY,\n",
    "    [LicenseNo] TEXT NOT NULL,\n",
    "    [LicensesExpDate] TEXT NOT NULL,\n",
    "    [BusinessID] INTEGER NOT NULL,\n",
    "    [ApplicantID] INTEGER NOT NULL,\n",
    "    FOREIGN KEY ([businessID]) REFERENCES Business(businessID),\n",
    "    FOREIGN KEY ([ApplicantID]) REFERENCES Applicants(ApplicantID)\n",
    "    );\n",
    "    '''\n",
    "  \n",
    "  def insert_licence(conn, values):\n",
    "    sql = 'INSERT into Licenses (LicenseNo,LicensesExpDate,BusinessID,ApplicantID) VALUES (?,?,?,?)'\n",
    "    cur = conn.cursor()\n",
    "    cur.executemany(sql,values)\n",
    "    return (cur.lastrowid)\n",
    "  \n",
    "  conn = create_connection(normalized_database_filename)\n",
    "  \n",
    "  with conn:\n",
    "    create_table(conn, create_license_table_sql, \"Licenses\")\n",
    "    insert_licence(conn, license_list)\n",
    "  conn.close()\n",
    "\n",
    "create_license_table(data_filename, normalized_database_filename)\n",
    "\n",
    "df = pd.read_sql_query(\"SELECT * FROM Licenses\", conn)\n",
    "display(df)"
   ]
  },
  {
   "cell_type": "code",
   "execution_count": null,
   "id": "fbce157a",
   "metadata": {},
   "outputs": [],
   "source": [
    "#Create License To LicenseID Dictionary\n",
    "\n",
    "def create_license_to_licenseID_dictionary(normalized_database_filename):\n",
    "\n",
    "  conn = create_connection(normalized_database_filename)\n",
    "\n",
    "  df = pd.read_sql_query (\"SELECT * FROM Licenses\", conn)\n",
    "\n",
    "  license_to_licenseID_dict = {}\n",
    "\n",
    "  for _, row in df.iterrows():\n",
    "      LicenseID = row['LicenseID']\n",
    "      License = row['LicenseNo']\n",
    "      license_to_licenseID_dict[License] = LicenseID\n",
    "  \n",
    "  conn.close()\n",
    "  return license_to_licenseID_dict\n",
    "\n",
    "license_to_licenseID_dict = create_license_to_licenseID_dictionary(normalized_database_filename)"
   ]
  },
  {
   "cell_type": "code",
   "execution_count": 55,
   "id": "b5b1018f",
   "metadata": {},
   "outputs": [
    {
     "data": {
      "application/vnd.microsoft.datawrangler.viewer.v0+json": {
       "columns": [
        {
         "name": "index",
         "rawType": "int64",
         "type": "integer"
        },
        {
         "name": "Description",
         "rawType": "object",
         "type": "string"
        },
        {
         "name": "LicenseCount",
         "rawType": "int64",
         "type": "integer"
        }
       ],
       "conversionMethod": "pd.DataFrame",
       "ref": "ecba2b8e-caf6-403a-9815-88b30e5f3e9f",
       "rows": [
        [
         "0",
         "LIGHT COMMERCIAL CONTRACTOR",
         "834"
        ],
        [
         "1",
         "SE 1ST CLASS",
         "616"
        ],
        [
         "2",
         "COLLECTION AGENCY",
         "613"
        ],
        [
         "3",
         "PLUMBERS JOURNEYMEN",
         "437"
        ],
        [
         "4",
         "SE CHIEF",
         "416"
        ],
        [
         "5",
         "SE 2ND CLASS",
         "223"
        ],
        [
         "6",
         "PLUMBERS MASTER",
         "188"
        ],
        [
         "7",
         "HEATING CONTRACTOR",
         "184"
        ],
        [
         "8",
         "MASTER ELECTRICIAN",
         "169"
        ],
        [
         "9",
         "SUBCONTRACTOR",
         "146"
        ],
        [
         "10",
         "SPECIALITY CONTRACTOR",
         "133"
        ],
        [
         "11",
         "TOW TRUCK",
         "132"
        ],
        [
         "12",
         "TAXI CAB/LIVERY DRIVER",
         "126"
        ],
        [
         "13",
         "GENERAL CONTRACTOR",
         "123"
        ],
        [
         "14",
         "JOURNEYMAN ELECTRICIAN",
         "110"
        ],
        [
         "15",
         "HANDYMAN CONTRACTOR",
         "97"
        ],
        [
         "16",
         "INACTIVE MASTER PLUMBER",
         "49"
        ],
        [
         "17",
         "HOME IMPROVEMENT CONTRACTOR",
         "48"
        ],
        [
         "18",
         "JOURNEYMAN REPAIR PLUMBER",
         "45"
        ],
        [
         "19",
         "LANDSCAPE-SNOW REMOVAL CONT",
         "43"
        ],
        [
         "20",
         "SIGN BUSINESS",
         "39"
        ],
        [
         "21",
         "STREET PERFORMER",
         "29"
        ],
        [
         "22",
         "TAXI CAB",
         "24"
        ],
        [
         "23",
         "MOBILE FOOD TRUCK",
         "24"
        ],
        [
         "24",
         "CONSTRUCTION MANAGER",
         "24"
        ],
        [
         "25",
         "MOBILE PEDDLER",
         "22"
        ],
        [
         "26",
         "DEMOLITION GRADE 3",
         "22"
        ],
        [
         "27",
         "DEMOLITION GRADE 2",
         "21"
        ],
        [
         "28",
         "FLAMABLE LIQUIDS INSTALLER",
         "18"
        ],
        [
         "29",
         "GARBAGE COLLECTOR SERVICE",
         "17"
        ],
        [
         "30",
         "INACTIVE MASTER ELECTRICIAN",
         "16"
        ],
        [
         "31",
         "DEMOLITION GRADE 1",
         "12"
        ],
        [
         "32",
         "FIRE ALARM AND SECURITY",
         "9"
        ],
        [
         "33",
         "ELEVATOR INSTALLER",
         "9"
        ],
        [
         "34",
         "DOWNTOWN PEDDLER",
         "7"
        ],
        [
         "35",
         "AUCTIONEER",
         "7"
        ],
        [
         "36",
         "SE SPECIAL",
         "6"
        ],
        [
         "37",
         "NEW HOUSING CONTRACTOR",
         "6"
        ],
        [
         "38",
         "MOTOR VEHICLE BOOTING",
         "3"
        ],
        [
         "39",
         "LIMITED INSTALLER PERSON",
         "3"
        ],
        [
         "40",
         "ELEVATOR INSPECTOR",
         "3"
        ],
        [
         "41",
         "CONSUMER ELECTRONICS",
         "2"
        ],
        [
         "42",
         "BOUNCER REGISTRATION CARD",
         "2"
        ],
        [
         "43",
         "LIMITED INSTALLER COMPANY",
         "1"
        ],
        [
         "44",
         "DOWNTOWN PEDDLER'S HELPER",
         "1"
        ],
        [
         "45",
         "DEMOLITION GRADE 4",
         "1"
        ]
       ],
       "shape": {
        "columns": 2,
        "rows": 46
       }
      },
      "text/html": [
       "<div>\n",
       "<style scoped>\n",
       "    .dataframe tbody tr th:only-of-type {\n",
       "        vertical-align: middle;\n",
       "    }\n",
       "\n",
       "    .dataframe tbody tr th {\n",
       "        vertical-align: top;\n",
       "    }\n",
       "\n",
       "    .dataframe thead th {\n",
       "        text-align: right;\n",
       "    }\n",
       "</style>\n",
       "<table border=\"1\" class=\"dataframe\">\n",
       "  <thead>\n",
       "    <tr style=\"text-align: right;\">\n",
       "      <th></th>\n",
       "      <th>Description</th>\n",
       "      <th>LicenseCount</th>\n",
       "    </tr>\n",
       "  </thead>\n",
       "  <tbody>\n",
       "    <tr>\n",
       "      <th>0</th>\n",
       "      <td>LIGHT COMMERCIAL CONTRACTOR</td>\n",
       "      <td>834</td>\n",
       "    </tr>\n",
       "    <tr>\n",
       "      <th>1</th>\n",
       "      <td>SE 1ST CLASS</td>\n",
       "      <td>616</td>\n",
       "    </tr>\n",
       "    <tr>\n",
       "      <th>2</th>\n",
       "      <td>COLLECTION AGENCY</td>\n",
       "      <td>613</td>\n",
       "    </tr>\n",
       "    <tr>\n",
       "      <th>3</th>\n",
       "      <td>PLUMBERS JOURNEYMEN</td>\n",
       "      <td>437</td>\n",
       "    </tr>\n",
       "    <tr>\n",
       "      <th>4</th>\n",
       "      <td>SE CHIEF</td>\n",
       "      <td>416</td>\n",
       "    </tr>\n",
       "    <tr>\n",
       "      <th>5</th>\n",
       "      <td>SE 2ND CLASS</td>\n",
       "      <td>223</td>\n",
       "    </tr>\n",
       "    <tr>\n",
       "      <th>6</th>\n",
       "      <td>PLUMBERS MASTER</td>\n",
       "      <td>188</td>\n",
       "    </tr>\n",
       "    <tr>\n",
       "      <th>7</th>\n",
       "      <td>HEATING CONTRACTOR</td>\n",
       "      <td>184</td>\n",
       "    </tr>\n",
       "    <tr>\n",
       "      <th>8</th>\n",
       "      <td>MASTER ELECTRICIAN</td>\n",
       "      <td>169</td>\n",
       "    </tr>\n",
       "    <tr>\n",
       "      <th>9</th>\n",
       "      <td>SUBCONTRACTOR</td>\n",
       "      <td>146</td>\n",
       "    </tr>\n",
       "    <tr>\n",
       "      <th>10</th>\n",
       "      <td>SPECIALITY CONTRACTOR</td>\n",
       "      <td>133</td>\n",
       "    </tr>\n",
       "    <tr>\n",
       "      <th>11</th>\n",
       "      <td>TOW TRUCK</td>\n",
       "      <td>132</td>\n",
       "    </tr>\n",
       "    <tr>\n",
       "      <th>12</th>\n",
       "      <td>TAXI CAB/LIVERY DRIVER</td>\n",
       "      <td>126</td>\n",
       "    </tr>\n",
       "    <tr>\n",
       "      <th>13</th>\n",
       "      <td>GENERAL CONTRACTOR</td>\n",
       "      <td>123</td>\n",
       "    </tr>\n",
       "    <tr>\n",
       "      <th>14</th>\n",
       "      <td>JOURNEYMAN ELECTRICIAN</td>\n",
       "      <td>110</td>\n",
       "    </tr>\n",
       "    <tr>\n",
       "      <th>15</th>\n",
       "      <td>HANDYMAN CONTRACTOR</td>\n",
       "      <td>97</td>\n",
       "    </tr>\n",
       "    <tr>\n",
       "      <th>16</th>\n",
       "      <td>INACTIVE MASTER PLUMBER</td>\n",
       "      <td>49</td>\n",
       "    </tr>\n",
       "    <tr>\n",
       "      <th>17</th>\n",
       "      <td>HOME IMPROVEMENT CONTRACTOR</td>\n",
       "      <td>48</td>\n",
       "    </tr>\n",
       "    <tr>\n",
       "      <th>18</th>\n",
       "      <td>JOURNEYMAN REPAIR PLUMBER</td>\n",
       "      <td>45</td>\n",
       "    </tr>\n",
       "    <tr>\n",
       "      <th>19</th>\n",
       "      <td>LANDSCAPE-SNOW REMOVAL CONT</td>\n",
       "      <td>43</td>\n",
       "    </tr>\n",
       "    <tr>\n",
       "      <th>20</th>\n",
       "      <td>SIGN BUSINESS</td>\n",
       "      <td>39</td>\n",
       "    </tr>\n",
       "    <tr>\n",
       "      <th>21</th>\n",
       "      <td>STREET PERFORMER</td>\n",
       "      <td>29</td>\n",
       "    </tr>\n",
       "    <tr>\n",
       "      <th>22</th>\n",
       "      <td>TAXI CAB</td>\n",
       "      <td>24</td>\n",
       "    </tr>\n",
       "    <tr>\n",
       "      <th>23</th>\n",
       "      <td>MOBILE FOOD TRUCK</td>\n",
       "      <td>24</td>\n",
       "    </tr>\n",
       "    <tr>\n",
       "      <th>24</th>\n",
       "      <td>CONSTRUCTION MANAGER</td>\n",
       "      <td>24</td>\n",
       "    </tr>\n",
       "    <tr>\n",
       "      <th>25</th>\n",
       "      <td>MOBILE PEDDLER</td>\n",
       "      <td>22</td>\n",
       "    </tr>\n",
       "    <tr>\n",
       "      <th>26</th>\n",
       "      <td>DEMOLITION GRADE 3</td>\n",
       "      <td>22</td>\n",
       "    </tr>\n",
       "    <tr>\n",
       "      <th>27</th>\n",
       "      <td>DEMOLITION GRADE 2</td>\n",
       "      <td>21</td>\n",
       "    </tr>\n",
       "    <tr>\n",
       "      <th>28</th>\n",
       "      <td>FLAMABLE LIQUIDS INSTALLER</td>\n",
       "      <td>18</td>\n",
       "    </tr>\n",
       "    <tr>\n",
       "      <th>29</th>\n",
       "      <td>GARBAGE COLLECTOR SERVICE</td>\n",
       "      <td>17</td>\n",
       "    </tr>\n",
       "    <tr>\n",
       "      <th>30</th>\n",
       "      <td>INACTIVE MASTER ELECTRICIAN</td>\n",
       "      <td>16</td>\n",
       "    </tr>\n",
       "    <tr>\n",
       "      <th>31</th>\n",
       "      <td>DEMOLITION GRADE 1</td>\n",
       "      <td>12</td>\n",
       "    </tr>\n",
       "    <tr>\n",
       "      <th>32</th>\n",
       "      <td>FIRE ALARM AND SECURITY</td>\n",
       "      <td>9</td>\n",
       "    </tr>\n",
       "    <tr>\n",
       "      <th>33</th>\n",
       "      <td>ELEVATOR INSTALLER</td>\n",
       "      <td>9</td>\n",
       "    </tr>\n",
       "    <tr>\n",
       "      <th>34</th>\n",
       "      <td>DOWNTOWN PEDDLER</td>\n",
       "      <td>7</td>\n",
       "    </tr>\n",
       "    <tr>\n",
       "      <th>35</th>\n",
       "      <td>AUCTIONEER</td>\n",
       "      <td>7</td>\n",
       "    </tr>\n",
       "    <tr>\n",
       "      <th>36</th>\n",
       "      <td>SE SPECIAL</td>\n",
       "      <td>6</td>\n",
       "    </tr>\n",
       "    <tr>\n",
       "      <th>37</th>\n",
       "      <td>NEW HOUSING CONTRACTOR</td>\n",
       "      <td>6</td>\n",
       "    </tr>\n",
       "    <tr>\n",
       "      <th>38</th>\n",
       "      <td>MOTOR VEHICLE BOOTING</td>\n",
       "      <td>3</td>\n",
       "    </tr>\n",
       "    <tr>\n",
       "      <th>39</th>\n",
       "      <td>LIMITED INSTALLER PERSON</td>\n",
       "      <td>3</td>\n",
       "    </tr>\n",
       "    <tr>\n",
       "      <th>40</th>\n",
       "      <td>ELEVATOR INSPECTOR</td>\n",
       "      <td>3</td>\n",
       "    </tr>\n",
       "    <tr>\n",
       "      <th>41</th>\n",
       "      <td>CONSUMER ELECTRONICS</td>\n",
       "      <td>2</td>\n",
       "    </tr>\n",
       "    <tr>\n",
       "      <th>42</th>\n",
       "      <td>BOUNCER REGISTRATION CARD</td>\n",
       "      <td>2</td>\n",
       "    </tr>\n",
       "    <tr>\n",
       "      <th>43</th>\n",
       "      <td>LIMITED INSTALLER COMPANY</td>\n",
       "      <td>1</td>\n",
       "    </tr>\n",
       "    <tr>\n",
       "      <th>44</th>\n",
       "      <td>DOWNTOWN PEDDLER'S HELPER</td>\n",
       "      <td>1</td>\n",
       "    </tr>\n",
       "    <tr>\n",
       "      <th>45</th>\n",
       "      <td>DEMOLITION GRADE 4</td>\n",
       "      <td>1</td>\n",
       "    </tr>\n",
       "  </tbody>\n",
       "</table>\n",
       "</div>"
      ],
      "text/plain": [
       "                    Description  LicenseCount\n",
       "0   LIGHT COMMERCIAL CONTRACTOR           834\n",
       "1                  SE 1ST CLASS           616\n",
       "2             COLLECTION AGENCY           613\n",
       "3           PLUMBERS JOURNEYMEN           437\n",
       "4                      SE CHIEF           416\n",
       "5                  SE 2ND CLASS           223\n",
       "6               PLUMBERS MASTER           188\n",
       "7            HEATING CONTRACTOR           184\n",
       "8            MASTER ELECTRICIAN           169\n",
       "9                 SUBCONTRACTOR           146\n",
       "10        SPECIALITY CONTRACTOR           133\n",
       "11                    TOW TRUCK           132\n",
       "12       TAXI CAB/LIVERY DRIVER           126\n",
       "13           GENERAL CONTRACTOR           123\n",
       "14       JOURNEYMAN ELECTRICIAN           110\n",
       "15          HANDYMAN CONTRACTOR            97\n",
       "16      INACTIVE MASTER PLUMBER            49\n",
       "17  HOME IMPROVEMENT CONTRACTOR            48\n",
       "18    JOURNEYMAN REPAIR PLUMBER            45\n",
       "19  LANDSCAPE-SNOW REMOVAL CONT            43\n",
       "20                SIGN BUSINESS            39\n",
       "21             STREET PERFORMER            29\n",
       "22                     TAXI CAB            24\n",
       "23            MOBILE FOOD TRUCK            24\n",
       "24         CONSTRUCTION MANAGER            24\n",
       "25               MOBILE PEDDLER            22\n",
       "26           DEMOLITION GRADE 3            22\n",
       "27           DEMOLITION GRADE 2            21\n",
       "28   FLAMABLE LIQUIDS INSTALLER            18\n",
       "29    GARBAGE COLLECTOR SERVICE            17\n",
       "30  INACTIVE MASTER ELECTRICIAN            16\n",
       "31           DEMOLITION GRADE 1            12\n",
       "32      FIRE ALARM AND SECURITY             9\n",
       "33           ELEVATOR INSTALLER             9\n",
       "34             DOWNTOWN PEDDLER             7\n",
       "35                   AUCTIONEER             7\n",
       "36                   SE SPECIAL             6\n",
       "37       NEW HOUSING CONTRACTOR             6\n",
       "38        MOTOR VEHICLE BOOTING             3\n",
       "39     LIMITED INSTALLER PERSON             3\n",
       "40           ELEVATOR INSPECTOR             3\n",
       "41         CONSUMER ELECTRONICS             2\n",
       "42    BOUNCER REGISTRATION CARD             2\n",
       "43    LIMITED INSTALLER COMPANY             1\n",
       "44    DOWNTOWN PEDDLER'S HELPER             1\n",
       "45           DEMOLITION GRADE 4             1"
      ]
     },
     "execution_count": 55,
     "metadata": {},
     "output_type": "execute_result"
    }
   ],
   "source": [
    "#Query 1: Which type of license is most frequently issued?\n",
    "sql_statement_query_1 = '''\n",
    "SELECT\n",
    "Description,\n",
    "COUNT(*) AS LicenseCount\n",
    "FROM Licenses\n",
    "\n",
    "JOIN Business ON Licenses.BusinessID = Business.BusinessID\n",
    "JOIN Description ON Business.DescriptionID = Description.DescriptionID\n",
    "GROUP BY Description.Description\n",
    "ORDER BY LicenseCount DESC;\n",
    "'''\n",
    "df = pd.read_sql_query(sql_statement_query_1, conn)\n",
    "df"
   ]
  },
  {
   "cell_type": "code",
   "execution_count": 46,
   "id": "8848f6c7",
   "metadata": {},
   "outputs": [
    {
     "data": {
      "application/vnd.microsoft.datawrangler.viewer.v0+json": {
       "columns": [
        {
         "name": "index",
         "rawType": "int64",
         "type": "integer"
        },
        {
         "name": "LicenseNo",
         "rawType": "object",
         "type": "string"
        },
        {
         "name": "Business",
         "rawType": "object",
         "type": "string"
        },
        {
         "name": "Applicant",
         "rawType": "object",
         "type": "string"
        },
        {
         "name": "PhoneNo",
         "rawType": "object",
         "type": "string"
        }
       ],
       "conversionMethod": "pd.DataFrame",
       "ref": "8ad4f7f6-8525-4aa2-97bf-9e6b55ad9906",
       "rows": [
        [
         "0",
         "LTC24-10066924",
         "3 BROTHERS PAINT CO LLC",
         "ERIC WALTON",
         "NO DATA"
        ],
        [
         "1",
         "TTR24-10066522",
         "5T TOWING AND RECOVERY LLC",
         "OMAR TIRADO",
         "NO DATA"
        ],
        [
         "2",
         "LTC22-10061715",
         "6 STARS PROPERTY MANAGEMENT INC.",
         "QUENTIN YANCEY",
         "NO DATA"
        ],
        [
         "3",
         "LTC25-10068620",
         "716 BROTHERS CONSTRUCTION INC",
         "LUIS MAYANCELA",
         "NO DATA"
        ],
        [
         "4",
         "LTC23-10062151",
         "716 CLEANUP & RESTORATION CORP.",
         "AARON REGDOS",
         "NO DATA"
        ],
        [
         "5",
         "LTC24-10066978",
         "716 PROPERTY MANGEMENT LLC",
         "STEVE KOTTAKIS",
         "NO DATA"
        ],
        [
         "6",
         "LTC22-10059888",
         "90WEST GROUP LLC",
         "SAMUEL DEFRANKS",
         "NO DATA"
        ],
        [
         "7",
         "SBC24-10066283",
         "A & F DRYWALL LLC",
         "ALBERTO P VIERA",
         "NO DATA"
        ],
        [
         "8",
         "SBC21-10059724",
         "A FINER FINISH OF WNY, LLC",
         "ERIC PALMATEER",
         "NO DATA"
        ],
        [
         "9",
         "LDS11-555960",
         "A-1 LANDCARE INC",
         "JASON LOMBARDI",
         "NO DATA"
        ],
        [
         "10",
         "LTC24-10068343",
         "A.CHATT CONTRACTING IN",
         "ZACKARY ANDERJACK",
         "NO DATA"
        ],
        [
         "11",
         "CAG11-560336",
         "A.G. ADJUSTMENTS LTD",
         "A.G. ADJUSTMENTS LTD",
         "NO DATA"
        ],
        [
         "12",
         "SBC24-10067052",
         "AAA CONCRETE AND MASONRY LLC",
         "MARK OGDEN",
         "NO DATA"
        ],
        [
         "13",
         "TTR24-10065735",
         "AAA OF WESTERN AND CENTRAL NEW YORK INC",
         "KEVIN FORTNER",
         "NO DATA"
        ],
        [
         "14",
         "TTR24-10065737",
         "AAA OF WESTERN AND CENTRAL NEW YORK INC",
         "KEVIN FORTNER",
         "NO DATA"
        ],
        [
         "15",
         "TTR24-10065736",
         "AAA OF WESTERN AND CENTRAL NEW YORK INC",
         "KEVIN FORTNER",
         "NO DATA"
        ],
        [
         "16",
         "TTR24-10065510",
         "AAA WESTERN AND CENTRAL NY INC.",
         "AAA OF WESTERN NY",
         "NO DATA"
        ],
        [
         "17",
         "TTR24-10065512",
         "AAA WESTERN AND CENTRAL NY INC.",
         "AAA OF WESTERN NY",
         "NO DATA"
        ],
        [
         "18",
         "TTR24-10065511",
         "AAA WESTERN AND CENTRAL NY INC.",
         "AAA OF WESTERN NY",
         "NO DATA"
        ],
        [
         "19",
         "TTR24-10065513",
         "AAA WESTERN AND CENTRAL NY INC.",
         "AAA OF WESTERN NY",
         "NO DATA"
        ],
        [
         "20",
         "LDS11-547312",
         "AARON'S LANDSCAPING AND SNOWPLOWING",
         "RODNEY NEVINS",
         "NO DATA"
        ],
        [
         "21",
         "SBC24-10066350",
         "ABC RESIDENTIAL CASEWORK INC",
         "CHAYA GANDL",
         "NO DATA"
        ],
        [
         "22",
         "LTC25-10069883",
         "ABD HOME IMPROVEMENT LLC",
         "MUSTAFA MOHAMED",
         "NO DATA"
        ],
        [
         "23",
         "TCD24-10066906",
         "ABDULLAH ALI AL WASIM",
         "ABDULLAH ALI AL WASIM",
         "NO DATA"
        ],
        [
         "24",
         "TCD24-10066347",
         "ABUBAKAR HISSU",
         "ABUBAKAR HISSU",
         "NO DATA"
        ],
        [
         "25",
         "HMC24-10066187",
         "AC RENOVATION AND HOME IMPROVEMENT",
         "ANDREW WANIAK",
         "NO DATA"
        ],
        [
         "26",
         "CAG17-10041766",
         "ACCENTURE SERVICE CENTER SRL",
         "JORGE D MARTIN",
         "NO DATA"
        ],
        [
         "27",
         "CAG21-10058987",
         "ACCENTURE SOCIEDAD DE RESPONSABILIDAD LIMITADA LL",
         "FABRICIO SOTO FEOLI",
         "NO DATA"
        ],
        [
         "28",
         "CAG22-10059903",
         "ACCOUNTS INTERCHANGE GROUP, LLC",
         "TOM TIRABASSI",
         "NO DATA"
        ],
        [
         "29",
         "CAG11-556138",
         "ACCOUNTS RECEIVABLE AUTOMATED SOLUTIONS INC.",
         "ACCOUNTS RECEIVABLE AUTOMATED SOLUTIONS INC.",
         "NO DATA"
        ],
        [
         "30",
         "GNC24-10065298",
         "ACCURATE ACOUSTICAL INC",
         "MAUREEN KORODY",
         "NO DATA"
        ],
        [
         "31",
         "DM322-10059976",
         "ACP BUFFALO, LLC",
         "SAMUEL DEFRANKS",
         "NO DATA"
        ],
        [
         "32",
         "SPC22-10060026",
         "ACP BUFFALO, LLC",
         "SAMUEL DEFRANKS",
         "NO DATA"
        ],
        [
         "33",
         "GNC22-10059977",
         "ACP BUFFALO, LLC",
         "SAMUEL DEFRANKS",
         "NO DATA"
        ],
        [
         "34",
         "CAG24-10065489",
         "ACRA LENDING",
         "KYLE GUNDERLOCK",
         "NO DATA"
        ],
        [
         "35",
         "TTR24-10065310",
         "ADAMS TIRES & AUTO REPAIR INC",
         "ADAM HAMIDEH",
         "NO DATA"
        ],
        [
         "36",
         "LTC24-10067141",
         "ADVANCED CONCRETE AND LANDSCAPING",
         "SCOTT WAGNER",
         "NO DATA"
        ],
        [
         "37",
         "CAG11-186390",
         "ADVANCED FINANCIAL COMPANY",
         "ADVANCED FINANCIAL COMPANY",
         "NO DATA"
        ],
        [
         "38",
         "LTC25-10069674",
         "ADVANCED HOOD CLEANING SOLUTIONS",
         "DEREK FUOCO",
         "NO DATA"
        ],
        [
         "39",
         "TCD24-10067051",
         "AIRPORT TAXI",
         "ABDUL AHAD",
         "NO DATA"
        ],
        [
         "40",
         "TCD24-10067288",
         "AIRPORT TAXI",
         "KAZI AHMED",
         "NO DATA"
        ],
        [
         "41",
         "TCD24-10065973",
         "AIRPORT TAXI",
         "MILLER MICHAEL",
         "NO DATA"
        ],
        [
         "42",
         "TCD24-10067280",
         "AIRPORT TAXI",
         "NURUL MASUM",
         "NO DATA"
        ],
        [
         "43",
         "TCD24-10066149",
         "AIRPORT TAXI",
         "PARMJIT NIJJAR",
         "NO DATA"
        ],
        [
         "44",
         "TCB21-10059053",
         "AIRPORT TAXI",
         "SUJAN SINGH",
         "NO DATA"
        ],
        [
         "45",
         "SE111-538710",
         "ALAN SLACK",
         "ALAN SLACK",
         "NO DATA"
        ],
        [
         "46",
         "LTC24-10065322",
         "ALL IN G.C. LLC",
         "MICHAEL MILLIDGE",
         "NO DATA"
        ],
        [
         "47",
         "LTC25-10069767",
         "ALL JOBS CONSTRUCTION, LLC",
         "JOSEPH MATOS",
         "NO DATA"
        ],
        [
         "48",
         "LTC25-10069680",
         "ALL YEAR ROUND CONTRACTING LLC",
         "BOBBY ADAMS",
         "NO DATA"
        ],
        [
         "49",
         "LTC11-559965",
         "ALLIANCE HOMES",
         "ANDREW ROMANOWSKI",
         "NO DATA"
        ]
       ],
       "shape": {
        "columns": 4,
        "rows": 891
       }
      },
      "text/html": [
       "<div>\n",
       "<style scoped>\n",
       "    .dataframe tbody tr th:only-of-type {\n",
       "        vertical-align: middle;\n",
       "    }\n",
       "\n",
       "    .dataframe tbody tr th {\n",
       "        vertical-align: top;\n",
       "    }\n",
       "\n",
       "    .dataframe thead th {\n",
       "        text-align: right;\n",
       "    }\n",
       "</style>\n",
       "<table border=\"1\" class=\"dataframe\">\n",
       "  <thead>\n",
       "    <tr style=\"text-align: right;\">\n",
       "      <th></th>\n",
       "      <th>LicenseNo</th>\n",
       "      <th>Business</th>\n",
       "      <th>Applicant</th>\n",
       "      <th>PhoneNo</th>\n",
       "    </tr>\n",
       "  </thead>\n",
       "  <tbody>\n",
       "    <tr>\n",
       "      <th>0</th>\n",
       "      <td>LTC24-10066924</td>\n",
       "      <td>3 BROTHERS PAINT CO LLC</td>\n",
       "      <td>ERIC WALTON</td>\n",
       "      <td>NO DATA</td>\n",
       "    </tr>\n",
       "    <tr>\n",
       "      <th>1</th>\n",
       "      <td>TTR24-10066522</td>\n",
       "      <td>5T TOWING AND RECOVERY LLC</td>\n",
       "      <td>OMAR TIRADO</td>\n",
       "      <td>NO DATA</td>\n",
       "    </tr>\n",
       "    <tr>\n",
       "      <th>2</th>\n",
       "      <td>LTC22-10061715</td>\n",
       "      <td>6 STARS PROPERTY MANAGEMENT INC.</td>\n",
       "      <td>QUENTIN YANCEY</td>\n",
       "      <td>NO DATA</td>\n",
       "    </tr>\n",
       "    <tr>\n",
       "      <th>3</th>\n",
       "      <td>LTC25-10068620</td>\n",
       "      <td>716 BROTHERS CONSTRUCTION INC</td>\n",
       "      <td>LUIS MAYANCELA</td>\n",
       "      <td>NO DATA</td>\n",
       "    </tr>\n",
       "    <tr>\n",
       "      <th>4</th>\n",
       "      <td>LTC23-10062151</td>\n",
       "      <td>716 CLEANUP &amp; RESTORATION CORP.</td>\n",
       "      <td>AARON REGDOS</td>\n",
       "      <td>NO DATA</td>\n",
       "    </tr>\n",
       "    <tr>\n",
       "      <th>...</th>\n",
       "      <td>...</td>\n",
       "      <td>...</td>\n",
       "      <td>...</td>\n",
       "      <td>...</td>\n",
       "    </tr>\n",
       "    <tr>\n",
       "      <th>886</th>\n",
       "      <td>JRP24-10066240</td>\n",
       "      <td>ZACHERY KIBLIN</td>\n",
       "      <td>ZACHERY KIBLIN</td>\n",
       "      <td>NO DATA</td>\n",
       "    </tr>\n",
       "    <tr>\n",
       "      <th>887</th>\n",
       "      <td>HMC23-10065238</td>\n",
       "      <td>ZBUILT LLC</td>\n",
       "      <td>ZACHARY LEWIS</td>\n",
       "      <td>NO DATA</td>\n",
       "    </tr>\n",
       "    <tr>\n",
       "      <th>888</th>\n",
       "      <td>CAG25-10069693</td>\n",
       "      <td>ZENDABLE LLC</td>\n",
       "      <td>MELISSA BONNEVILLE</td>\n",
       "      <td>NO DATA</td>\n",
       "    </tr>\n",
       "    <tr>\n",
       "      <th>889</th>\n",
       "      <td>CAG11-553953</td>\n",
       "      <td>ZENTA RECOVERIES INC.</td>\n",
       "      <td>ZENTA RECOVERIES INC.</td>\n",
       "      <td>NO DATA</td>\n",
       "    </tr>\n",
       "    <tr>\n",
       "      <th>890</th>\n",
       "      <td>LTC11-561369</td>\n",
       "      <td>ZUMBINO CONCRETE CONSTRUCTION LLC</td>\n",
       "      <td>SANTINO CAMPANELLA</td>\n",
       "      <td>NO DATA</td>\n",
       "    </tr>\n",
       "  </tbody>\n",
       "</table>\n",
       "<p>891 rows × 4 columns</p>\n",
       "</div>"
      ],
      "text/plain": [
       "          LicenseNo                           Business              Applicant  \\\n",
       "0    LTC24-10066924            3 BROTHERS PAINT CO LLC            ERIC WALTON   \n",
       "1    TTR24-10066522         5T TOWING AND RECOVERY LLC            OMAR TIRADO   \n",
       "2    LTC22-10061715   6 STARS PROPERTY MANAGEMENT INC.         QUENTIN YANCEY   \n",
       "3    LTC25-10068620      716 BROTHERS CONSTRUCTION INC         LUIS MAYANCELA   \n",
       "4    LTC23-10062151    716 CLEANUP & RESTORATION CORP.           AARON REGDOS   \n",
       "..              ...                                ...                    ...   \n",
       "886  JRP24-10066240                     ZACHERY KIBLIN         ZACHERY KIBLIN   \n",
       "887  HMC23-10065238                         ZBUILT LLC          ZACHARY LEWIS   \n",
       "888  CAG25-10069693                       ZENDABLE LLC     MELISSA BONNEVILLE   \n",
       "889    CAG11-553953              ZENTA RECOVERIES INC.  ZENTA RECOVERIES INC.   \n",
       "890    LTC11-561369  ZUMBINO CONCRETE CONSTRUCTION LLC     SANTINO CAMPANELLA   \n",
       "\n",
       "     PhoneNo  \n",
       "0    NO DATA  \n",
       "1    NO DATA  \n",
       "2    NO DATA  \n",
       "3    NO DATA  \n",
       "4    NO DATA  \n",
       "..       ...  \n",
       "886  NO DATA  \n",
       "887  NO DATA  \n",
       "888  NO DATA  \n",
       "889  NO DATA  \n",
       "890  NO DATA  \n",
       "\n",
       "[891 rows x 4 columns]"
      ]
     },
     "execution_count": 46,
     "metadata": {},
     "output_type": "execute_result"
    }
   ],
   "source": [
    "#Query 2: Which applicants have license applications that are missing contact information?\n",
    "sql_statement_query_2 = '''\n",
    "SELECT DISTINCT Licenses.LicenseNo, Business.Business, Applicants.Applicant, Applicants.PhoneNo\n",
    "FROM Licenses\n",
    "\n",
    "INNER JOIN Business ON Licenses.BusinessID = Business.BusinessID\n",
    "INNER JOIN Applicants ON Licenses.ApplicantID = Applicants.ApplicantID\n",
    "\n",
    "WHERE Applicants.PhoneNo = 'NO DATA'\n",
    "ORDER BY Business.Business, Applicants.Applicant;\n",
    "'''\n",
    "df = pd.read_sql_query(sql_statement_query_2, conn)\n",
    "df"
   ]
  },
  {
   "cell_type": "code",
   "execution_count": null,
   "id": "f6202e1e",
   "metadata": {},
   "outputs": [
    {
     "data": {
      "application/vnd.microsoft.datawrangler.viewer.v0+json": {
       "columns": [
        {
         "name": "index",
         "rawType": "int64",
         "type": "integer"
        },
        {
         "name": "LicenseNo",
         "rawType": "object",
         "type": "string"
        },
        {
         "name": "LicensesExpDate",
         "rawType": "object",
         "type": "string"
        },
        {
         "name": "Applicant",
         "rawType": "object",
         "type": "string"
        },
        {
         "name": "PhoneNo",
         "rawType": "object",
         "type": "string"
        }
       ],
       "conversionMethod": "pd.DataFrame",
       "ref": "05e3e335-ca66-47df-bfae-64635c83a0f5",
       "rows": [
        [
         "0",
         "STP14-10028086",
         "2025-05-03",
         "RICHARD E DANIELS",
         "(716)835-0345"
        ],
        [
         "1",
         "STP19-10050824",
         "2025-05-28",
         "PHILIP ROMA",
         "(716)668-7885"
        ],
        [
         "2",
         "SEC23-10062768",
         "2025-05-31",
         "VINCENT ZIOLKOWSKI",
         "(716)425-4891"
        ],
        [
         "3",
         "SE223-10062727",
         "2025-05-31",
         "LEON SMITH",
         "(716)818-7730"
        ],
        [
         "4",
         "SE211-160847",
         "2025-05-31",
         "JEFFREY CANDINO",
         "(716)564-0184"
        ],
        [
         "5",
         "SE223-10062808",
         "2025-05-31",
         "GREGG L HECKMAN",
         "(716)549-0251"
        ],
        [
         "6",
         "SE111-514578",
         "2025-05-31",
         "VICTOR ORLANDO",
         "(716)308-6696"
        ],
        [
         "7",
         "SE223-10062765",
         "2025-05-31",
         "TYLER ROLLO",
         "(845)825-7731"
        ],
        [
         "8",
         "SE223-10062743",
         "2025-05-31",
         "TAIE O'MEALLY",
         "(716)367-3479"
        ],
        [
         "9",
         "SE115-10031283",
         "2025-05-31",
         "SAW TUN WIN",
         "(716)819-7742"
        ],
        [
         "10",
         "SE223-10062764",
         "2025-05-31",
         "RYAN HIGGINS",
         "(716)308-7668"
        ],
        [
         "11",
         "SE211-218196",
         "2025-05-31",
         "RICHARD O'NEILL",
         "(716)824-6831"
        ],
        [
         "12",
         "SE117-10039879",
         "2025-05-31",
         "PHILLIP FUSZARA",
         "(716)594-7829"
        ],
        [
         "13",
         "SE111-218246",
         "2025-05-31",
         "PATRICK MCDONALD",
         "(716)825-8645"
        ],
        [
         "14",
         "SEC11-554273",
         "2025-05-31",
         "NORMAN ZERKOWSKI",
         "(716)875-6331"
        ],
        [
         "15",
         "SE115-10031213",
         "2025-05-31",
         "NEAL J KEANE SR",
         "(716)713-1002"
        ],
        [
         "16",
         "SE117-10039960",
         "2025-05-31",
         "NATHAN WEIGLEIN",
         "(716)602-9349"
        ],
        [
         "17",
         "SE111-561730",
         "2025-05-31",
         "MICHAEL WOJTULSKI",
         "(716)856-5589"
        ],
        [
         "18",
         "SE223-10062825",
         "2025-05-31",
         "MICHAEL R MCCOOL",
         "(716)803-0015"
        ],
        [
         "19",
         "SE211-218561",
         "2025-05-31",
         "MARVIN SCHUSTER",
         "(716)480-9876"
        ],
        [
         "20",
         "SEC15-10031094",
         "2025-05-31",
         "KELLY KRUG",
         "(716)578-5289"
        ],
        [
         "21",
         "SE223-10062728",
         "2025-05-31",
         "JUSTIN HIGGINS",
         "(716)830-3740"
        ],
        [
         "22",
         "SE117-10039958",
         "2025-05-31",
         "JOSHUA OSHIRAK",
         "(716)536-3301"
        ],
        [
         "23",
         "SE223-10062757",
         "2025-05-31",
         "JESSE WINTERS",
         "(716)255-5579"
        ],
        [
         "24",
         "SEC13-10024997",
         "2025-05-31",
         "GERARD HAMILTON",
         "(716)828-0442"
        ],
        [
         "25",
         "SE113-10025131",
         "2025-05-31",
         "GARY LIGHT",
         "(716)604-8796"
        ],
        [
         "26",
         "SES11-218223",
         "2025-05-31",
         "FRANK ZAMBITO",
         "(716)875-3141"
        ],
        [
         "27",
         "SEC11-539389",
         "2025-05-31",
         "FRANCISCO SANTIAGO",
         "(716)566-8954"
        ],
        [
         "28",
         "SE111-220771",
         "2025-05-31",
         "EDWARD J SUMMERS JR",
         "(716)825-7885"
        ],
        [
         "29",
         "SEC11-220574",
         "2025-05-31",
         "DAVID ZYDEL",
         "(716)822-0690"
        ],
        [
         "30",
         "SEC13-10025096",
         "2025-05-31",
         "DAVID AMOIA",
         "(716)777-6036"
        ],
        [
         "31",
         "SE111-220372",
         "2025-05-31",
         "DANIEL MILOVICH",
         "(716)480-3953"
        ],
        [
         "32",
         "SE118-10043954",
         "2025-05-31",
         "DANIEL BURROWS",
         "(716)348-6308"
        ],
        [
         "33",
         "SE121-10059145",
         "2025-05-31",
         "CRISTIAN L CRUZ",
         "(716)725-7583"
        ],
        [
         "34",
         "SEC11-217720",
         "2025-05-31",
         "PHILIP PECORARO",
         "(716)860-5764"
        ],
        [
         "35",
         "SEC11-546365",
         "2025-05-31",
         "RICHARD FRIEDMAN",
         "(716)759-8814"
        ],
        [
         "36",
         "SE111-546453",
         "2025-05-31",
         "GREGORY WOODRUFF",
         "(716)390-8115"
        ],
        [
         "37",
         "SEC11-218239",
         "2025-05-31",
         "DOUGLAS PAYNE",
         "(716)741-3187"
        ],
        [
         "38",
         "SE111-218958",
         "2025-05-31",
         "DANIEL SMERDA",
         "(716)741-8599"
        ],
        [
         "39",
         "SE111-161416",
         "2025-05-31",
         "MICHAEL SANDRO",
         "(503)560-6315"
        ],
        [
         "40",
         "SE223-10062726",
         "2025-05-31",
         "DANIEL S. SMITH",
         "(716)706-9093"
        ],
        [
         "41",
         "SE123-10062769",
         "2025-05-31",
         "CHARLES WARD",
         "(716)345-5158"
        ],
        [
         "42",
         "SEC11-539435",
         "2025-05-31",
         "ARTHUR TUBISZ",
         "(716)681-1774"
        ],
        [
         "43",
         "SE111-528947",
         "2025-05-31",
         "ROBERT GUNNING",
         "(716)947-0211"
        ],
        [
         "44",
         "SEC11-561767",
         "2025-05-31",
         "MARIO GIAMBANCO",
         "(716)316-2024"
        ],
        [
         "45",
         "SEC15-10031396",
         "2025-05-31",
         "ROBERT MORGAN",
         "(716)445-8028"
        ],
        [
         "46",
         "SE223-10062820",
         "2025-05-31",
         "JOSEPH BATT",
         "(716)698-0000"
        ],
        [
         "47",
         "SEC13-10025101",
         "2025-05-31",
         "JAMES WHITACRE",
         "(716)655-4891"
        ],
        [
         "48",
         "SEC13-10025097",
         "2025-05-31",
         "GARY CHOP",
         "(716)812-2817"
        ],
        [
         "49",
         "SEC11-222567",
         "2025-05-31",
         "JOHN PROUDMAN",
         "(716)992-3155"
        ]
       ],
       "shape": {
        "columns": 4,
        "rows": 97
       }
      },
      "text/html": [
       "<div>\n",
       "<style scoped>\n",
       "    .dataframe tbody tr th:only-of-type {\n",
       "        vertical-align: middle;\n",
       "    }\n",
       "\n",
       "    .dataframe tbody tr th {\n",
       "        vertical-align: top;\n",
       "    }\n",
       "\n",
       "    .dataframe thead th {\n",
       "        text-align: right;\n",
       "    }\n",
       "</style>\n",
       "<table border=\"1\" class=\"dataframe\">\n",
       "  <thead>\n",
       "    <tr style=\"text-align: right;\">\n",
       "      <th></th>\n",
       "      <th>LicenseNo</th>\n",
       "      <th>LicensesExpDate</th>\n",
       "      <th>Applicant</th>\n",
       "      <th>PhoneNo</th>\n",
       "    </tr>\n",
       "  </thead>\n",
       "  <tbody>\n",
       "    <tr>\n",
       "      <th>0</th>\n",
       "      <td>STP14-10028086</td>\n",
       "      <td>2025-05-03</td>\n",
       "      <td>RICHARD E DANIELS</td>\n",
       "      <td>(716)835-0345</td>\n",
       "    </tr>\n",
       "    <tr>\n",
       "      <th>1</th>\n",
       "      <td>STP19-10050824</td>\n",
       "      <td>2025-05-28</td>\n",
       "      <td>PHILIP ROMA</td>\n",
       "      <td>(716)668-7885</td>\n",
       "    </tr>\n",
       "    <tr>\n",
       "      <th>2</th>\n",
       "      <td>SEC23-10062768</td>\n",
       "      <td>2025-05-31</td>\n",
       "      <td>VINCENT ZIOLKOWSKI</td>\n",
       "      <td>(716)425-4891</td>\n",
       "    </tr>\n",
       "    <tr>\n",
       "      <th>3</th>\n",
       "      <td>SE223-10062727</td>\n",
       "      <td>2025-05-31</td>\n",
       "      <td>LEON SMITH</td>\n",
       "      <td>(716)818-7730</td>\n",
       "    </tr>\n",
       "    <tr>\n",
       "      <th>4</th>\n",
       "      <td>SE211-160847</td>\n",
       "      <td>2025-05-31</td>\n",
       "      <td>JEFFREY CANDINO</td>\n",
       "      <td>(716)564-0184</td>\n",
       "    </tr>\n",
       "    <tr>\n",
       "      <th>...</th>\n",
       "      <td>...</td>\n",
       "      <td>...</td>\n",
       "      <td>...</td>\n",
       "      <td>...</td>\n",
       "    </tr>\n",
       "    <tr>\n",
       "      <th>92</th>\n",
       "      <td>SE117-10040371</td>\n",
       "      <td>2025-05-31</td>\n",
       "      <td>LOUIS PRZYSTAL</td>\n",
       "      <td>(716)823-0067</td>\n",
       "    </tr>\n",
       "    <tr>\n",
       "      <th>93</th>\n",
       "      <td>SE223-10062758</td>\n",
       "      <td>2025-05-31</td>\n",
       "      <td>CHRISTOPHER CHAPMAN</td>\n",
       "      <td>(716)308-0420</td>\n",
       "    </tr>\n",
       "    <tr>\n",
       "      <th>94</th>\n",
       "      <td>SE221-10059137</td>\n",
       "      <td>2025-05-31</td>\n",
       "      <td>RYAN WINTER</td>\n",
       "      <td>(716)912-7437</td>\n",
       "    </tr>\n",
       "    <tr>\n",
       "      <th>95</th>\n",
       "      <td>SE119-10050509</td>\n",
       "      <td>2025-05-31</td>\n",
       "      <td>JEFFREY LAVOCAT</td>\n",
       "      <td>(716)352-4423</td>\n",
       "    </tr>\n",
       "    <tr>\n",
       "      <th>96</th>\n",
       "      <td>SEC11-553762</td>\n",
       "      <td>2025-05-31</td>\n",
       "      <td>EARL MEKELBURG</td>\n",
       "      <td>(716)825-1997</td>\n",
       "    </tr>\n",
       "  </tbody>\n",
       "</table>\n",
       "<p>97 rows × 4 columns</p>\n",
       "</div>"
      ],
      "text/plain": [
       "         LicenseNo LicensesExpDate            Applicant        PhoneNo\n",
       "0   STP14-10028086      2025-05-03    RICHARD E DANIELS  (716)835-0345\n",
       "1   STP19-10050824      2025-05-28          PHILIP ROMA  (716)668-7885\n",
       "2   SEC23-10062768      2025-05-31   VINCENT ZIOLKOWSKI  (716)425-4891\n",
       "3   SE223-10062727      2025-05-31           LEON SMITH  (716)818-7730\n",
       "4     SE211-160847      2025-05-31      JEFFREY CANDINO  (716)564-0184\n",
       "..             ...             ...                  ...            ...\n",
       "92  SE117-10040371      2025-05-31       LOUIS PRZYSTAL  (716)823-0067\n",
       "93  SE223-10062758      2025-05-31  CHRISTOPHER CHAPMAN  (716)308-0420\n",
       "94  SE221-10059137      2025-05-31          RYAN WINTER  (716)912-7437\n",
       "95  SE119-10050509      2025-05-31      JEFFREY LAVOCAT  (716)352-4423\n",
       "96    SEC11-553762      2025-05-31       EARL MEKELBURG  (716)825-1997\n",
       "\n",
       "[97 rows x 4 columns]"
      ]
     },
     "execution_count": 53,
     "metadata": {},
     "output_type": "execute_result"
    }
   ],
   "source": [
    "#Query 3: Identify applicants whose licenses are due to expire within the next month (May 1st -May 31st).\n",
    "sql_statement_query_3 = '''\n",
    "SELECT\n",
    "Licenses.LicenseNo,\n",
    "Licenses.LicensesExpDate,\n",
    "Applicants.Applicant,\n",
    "Applicants.PhoneNo\n",
    "FROM Licenses\n",
    "\n",
    "INNER JOIN Applicants ON Licenses.ApplicantID = Applicants.ApplicantID\n",
    "\n",
    "WHERE Licenses.LicensesExpDate BETWEEN '2025-05-01' AND '2025-05-31' AND Applicants.PhoneNo != 'NO DATA'\n",
    "ORDER BY Licenses.LicensesExpDate ASC;\n",
    "'''\n",
    "\n",
    "df = pd.read_sql_query(sql_statement_query_3, conn)\n",
    "df"
   ]
  },
  {
   "cell_type": "code",
   "execution_count": 56,
   "id": "981b62e7",
   "metadata": {},
   "outputs": [
    {
     "data": {
      "application/vnd.microsoft.datawrangler.viewer.v0+json": {
       "columns": [
        {
         "name": "index",
         "rawType": "int64",
         "type": "integer"
        },
        {
         "name": "Business",
         "rawType": "object",
         "type": "string"
        },
        {
         "name": "Municipality",
         "rawType": "object",
         "type": "string"
        },
        {
         "name": "Description",
         "rawType": "object",
         "type": "string"
        },
        {
         "name": "State",
         "rawType": "object",
         "type": "string"
        }
       ],
       "conversionMethod": "pd.DataFrame",
       "ref": "6e4e31e8-ed1e-40fb-b49e-9199a48da9f9",
       "rows": [
        [
         "0",
         "ACP BUFFALO, LLC",
         "BUFFALO",
         "DEMOLITION GRADE 3",
         "NY"
        ],
        [
         "1",
         "ATLANTIC GARAGES",
         "BUFFALO",
         "DEMOLITION GRADE 3",
         "NY"
        ],
        [
         "2",
         "DEVCON US LLC",
         "BUFFALO",
         "DEMOLITION GRADE 3",
         "NY"
        ],
        [
         "3",
         "ELLICOTT CONSTRUCTION CO INC",
         "BUFFALO",
         "DEMOLITION GRADE 3",
         "NY"
        ],
        [
         "4",
         "FRONTIER INDUSTRIAL CORP",
         "BUFFALO",
         "DEMOLITION GRADE 3",
         "NY"
        ],
        [
         "5",
         "GEITER DONE OF WNY INC.",
         "BUFFALO",
         "DEMOLITION GRADE 3",
         "NY"
        ],
        [
         "6",
         "HANNAH DEMOLITION INC",
         "BUFFALO",
         "DEMOLITION GRADE 3",
         "NY"
        ],
        [
         "7",
         "LEE'S ENVIRONMENTAL SERVICES INC",
         "BUFFALO",
         "DEMOLITION GRADE 3",
         "NY"
        ],
        [
         "8",
         "ONTARIO SPECIALTY CONTRACTING",
         "BUFFALO",
         "DEMOLITION GRADE 3",
         "NY"
        ],
        [
         "9",
         "TOTAL WRECKING & ENVIRONMENTAL LLC",
         "BUFFALO",
         "DEMOLITION GRADE 3",
         "NY"
        ]
       ],
       "shape": {
        "columns": 4,
        "rows": 10
       }
      },
      "text/html": [
       "<div>\n",
       "<style scoped>\n",
       "    .dataframe tbody tr th:only-of-type {\n",
       "        vertical-align: middle;\n",
       "    }\n",
       "\n",
       "    .dataframe tbody tr th {\n",
       "        vertical-align: top;\n",
       "    }\n",
       "\n",
       "    .dataframe thead th {\n",
       "        text-align: right;\n",
       "    }\n",
       "</style>\n",
       "<table border=\"1\" class=\"dataframe\">\n",
       "  <thead>\n",
       "    <tr style=\"text-align: right;\">\n",
       "      <th></th>\n",
       "      <th>Business</th>\n",
       "      <th>Municipality</th>\n",
       "      <th>Description</th>\n",
       "      <th>State</th>\n",
       "    </tr>\n",
       "  </thead>\n",
       "  <tbody>\n",
       "    <tr>\n",
       "      <th>0</th>\n",
       "      <td>ACP BUFFALO, LLC</td>\n",
       "      <td>BUFFALO</td>\n",
       "      <td>DEMOLITION GRADE 3</td>\n",
       "      <td>NY</td>\n",
       "    </tr>\n",
       "    <tr>\n",
       "      <th>1</th>\n",
       "      <td>ATLANTIC GARAGES</td>\n",
       "      <td>BUFFALO</td>\n",
       "      <td>DEMOLITION GRADE 3</td>\n",
       "      <td>NY</td>\n",
       "    </tr>\n",
       "    <tr>\n",
       "      <th>2</th>\n",
       "      <td>DEVCON US LLC</td>\n",
       "      <td>BUFFALO</td>\n",
       "      <td>DEMOLITION GRADE 3</td>\n",
       "      <td>NY</td>\n",
       "    </tr>\n",
       "    <tr>\n",
       "      <th>3</th>\n",
       "      <td>ELLICOTT CONSTRUCTION CO INC</td>\n",
       "      <td>BUFFALO</td>\n",
       "      <td>DEMOLITION GRADE 3</td>\n",
       "      <td>NY</td>\n",
       "    </tr>\n",
       "    <tr>\n",
       "      <th>4</th>\n",
       "      <td>FRONTIER INDUSTRIAL CORP</td>\n",
       "      <td>BUFFALO</td>\n",
       "      <td>DEMOLITION GRADE 3</td>\n",
       "      <td>NY</td>\n",
       "    </tr>\n",
       "    <tr>\n",
       "      <th>5</th>\n",
       "      <td>GEITER DONE OF WNY INC.</td>\n",
       "      <td>BUFFALO</td>\n",
       "      <td>DEMOLITION GRADE 3</td>\n",
       "      <td>NY</td>\n",
       "    </tr>\n",
       "    <tr>\n",
       "      <th>6</th>\n",
       "      <td>HANNAH DEMOLITION INC</td>\n",
       "      <td>BUFFALO</td>\n",
       "      <td>DEMOLITION GRADE 3</td>\n",
       "      <td>NY</td>\n",
       "    </tr>\n",
       "    <tr>\n",
       "      <th>7</th>\n",
       "      <td>LEE'S ENVIRONMENTAL SERVICES INC</td>\n",
       "      <td>BUFFALO</td>\n",
       "      <td>DEMOLITION GRADE 3</td>\n",
       "      <td>NY</td>\n",
       "    </tr>\n",
       "    <tr>\n",
       "      <th>8</th>\n",
       "      <td>ONTARIO SPECIALTY CONTRACTING</td>\n",
       "      <td>BUFFALO</td>\n",
       "      <td>DEMOLITION GRADE 3</td>\n",
       "      <td>NY</td>\n",
       "    </tr>\n",
       "    <tr>\n",
       "      <th>9</th>\n",
       "      <td>TOTAL WRECKING &amp; ENVIRONMENTAL LLC</td>\n",
       "      <td>BUFFALO</td>\n",
       "      <td>DEMOLITION GRADE 3</td>\n",
       "      <td>NY</td>\n",
       "    </tr>\n",
       "  </tbody>\n",
       "</table>\n",
       "</div>"
      ],
      "text/plain": [
       "                             Business Municipality         Description State\n",
       "0                    ACP BUFFALO, LLC      BUFFALO  DEMOLITION GRADE 3    NY\n",
       "1                    ATLANTIC GARAGES      BUFFALO  DEMOLITION GRADE 3    NY\n",
       "2                       DEVCON US LLC      BUFFALO  DEMOLITION GRADE 3    NY\n",
       "3        ELLICOTT CONSTRUCTION CO INC      BUFFALO  DEMOLITION GRADE 3    NY\n",
       "4            FRONTIER INDUSTRIAL CORP      BUFFALO  DEMOLITION GRADE 3    NY\n",
       "5             GEITER DONE OF WNY INC.      BUFFALO  DEMOLITION GRADE 3    NY\n",
       "6               HANNAH DEMOLITION INC      BUFFALO  DEMOLITION GRADE 3    NY\n",
       "7    LEE'S ENVIRONMENTAL SERVICES INC      BUFFALO  DEMOLITION GRADE 3    NY\n",
       "8       ONTARIO SPECIALTY CONTRACTING      BUFFALO  DEMOLITION GRADE 3    NY\n",
       "9  TOTAL WRECKING & ENVIRONMENTAL LLC      BUFFALO  DEMOLITION GRADE 3    NY"
      ]
     },
     "execution_count": 56,
     "metadata": {},
     "output_type": "execute_result"
    }
   ],
   "source": [
    "#Query 4: Which businesses, that hold a Demolition Level 3 license and are based in Buffalo, New York?\n",
    "sql_statement_query_4 = '''\n",
    "SELECT \n",
    "Business.Business,\n",
    "Municipality.Municipality,\n",
    "Description.Description,\n",
    "State.State\n",
    "FROM Business\n",
    "\n",
    "JOIN Municipality ON Business.MunicipalityID = Municipality.MunicipalityID\n",
    "JOIN Description ON Business.DescriptionID = Description.DescriptionID\n",
    "JOIN State ON Municipality.StateID = State.StateID\n",
    "\n",
    "WHERE UPPER(Municipality.Municipality) = 'BUFFALO' AND Description.DescriptionID = 10\n",
    "ORDER BY Business.Business;\n",
    "'''\n",
    "df = pd.read_sql_query(sql_statement_query_4, conn)\n",
    "df"
   ]
  },
  {
   "cell_type": "code",
   "execution_count": 57,
   "id": "2bde9de2",
   "metadata": {},
   "outputs": [
    {
     "data": {
      "application/vnd.microsoft.datawrangler.viewer.v0+json": {
       "columns": [
        {
         "name": "index",
         "rawType": "int64",
         "type": "integer"
        },
        {
         "name": "Business",
         "rawType": "object",
         "type": "string"
        },
        {
         "name": "DescriptionIDs",
         "rawType": "object",
         "type": "string"
        }
       ],
       "conversionMethod": "pd.DataFrame",
       "ref": "c38b3e5e-4ac8-479f-858b-4a5419d6843e",
       "rows": [
        [
         "0",
         "ACP BUFFALO, LLC",
         "10,26,14"
        ],
        [
         "1",
         "EMPIRE BUILDING DIAGNOSTICS INC",
         "14,10,26"
        ]
       ],
       "shape": {
        "columns": 2,
        "rows": 2
       }
      },
      "text/html": [
       "<div>\n",
       "<style scoped>\n",
       "    .dataframe tbody tr th:only-of-type {\n",
       "        vertical-align: middle;\n",
       "    }\n",
       "\n",
       "    .dataframe tbody tr th {\n",
       "        vertical-align: top;\n",
       "    }\n",
       "\n",
       "    .dataframe thead th {\n",
       "        text-align: right;\n",
       "    }\n",
       "</style>\n",
       "<table border=\"1\" class=\"dataframe\">\n",
       "  <thead>\n",
       "    <tr style=\"text-align: right;\">\n",
       "      <th></th>\n",
       "      <th>Business</th>\n",
       "      <th>DescriptionIDs</th>\n",
       "    </tr>\n",
       "  </thead>\n",
       "  <tbody>\n",
       "    <tr>\n",
       "      <th>0</th>\n",
       "      <td>ACP BUFFALO, LLC</td>\n",
       "      <td>10,26,14</td>\n",
       "    </tr>\n",
       "    <tr>\n",
       "      <th>1</th>\n",
       "      <td>EMPIRE BUILDING DIAGNOSTICS INC</td>\n",
       "      <td>14,10,26</td>\n",
       "    </tr>\n",
       "  </tbody>\n",
       "</table>\n",
       "</div>"
      ],
      "text/plain": [
       "                          Business DescriptionIDs\n",
       "0                 ACP BUFFALO, LLC       10,26,14\n",
       "1  EMPIRE BUILDING DIAGNOSTICS INC       14,10,26"
      ]
     },
     "execution_count": 57,
     "metadata": {},
     "output_type": "execute_result"
    }
   ],
   "source": [
    "#Query 5: Identify businesses that hold licenses for both plumbing and heating?\n",
    "sql_statement_query_4 = '''\n",
    "SELECT \n",
    "Business.Business,\n",
    "GROUP_CONCAT(DISTINCT DescriptionID) AS DescriptionIDs\n",
    "FROM Business\n",
    "\n",
    "WHERE DescriptionID IN (10, 14, 26)\n",
    "GROUP BY Business.Business\n",
    "HAVING COUNT(DISTINCT DescriptionID) > 2;\n",
    "'''\n",
    "df = pd.read_sql_query(sql_statement_query_4, conn)\n",
    "df"
   ]
  }
 ],
 "metadata": {
  "kernelspec": {
   "display_name": "Python 3",
   "language": "python",
   "name": "python3"
  },
  "language_info": {
   "codemirror_mode": {
    "name": "ipython",
    "version": 3
   },
   "file_extension": ".py",
   "mimetype": "text/x-python",
   "name": "python",
   "nbconvert_exporter": "python",
   "pygments_lexer": "ipython3",
   "version": "3.13.1"
  }
 },
 "nbformat": 4,
 "nbformat_minor": 5
}
